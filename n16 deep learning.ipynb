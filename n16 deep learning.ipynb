{
 "cells": [
  {
   "cell_type": "markdown",
   "id": "c13ff42e",
   "metadata": {},
   "source": [
    "## Classification de la base n16 en utilisant le deep learning"
   ]
  },
  {
   "cell_type": "markdown",
   "id": "de135fa2",
   "metadata": {},
   "source": [
    "## 1- CNN"
   ]
  },
  {
   "cell_type": "code",
   "execution_count": 36,
   "id": "67a611a0",
   "metadata": {},
   "outputs": [],
   "source": [
    "import numpy as np\n",
    "import pandas as pd\n",
    "import pickle\n",
    "from collections import defaultdict\n",
    "import re\n",
    "from bs4 import BeautifulSoup\n",
    "import sys\n",
    "import os\n",
    "os.environ['KERAS_BACKEND']='theano' # Why theano why not\n",
    "from keras.preprocessing.text import Tokenizer\n",
    "from tensorflow.keras.preprocessing.sequence import pad_sequences\n",
    "from keras.utils.np_utils import to_categorical\n",
    "from keras.layers import Embedding\n",
    "from keras.layers import Dense, Input, Flatten\n",
    "from keras.layers import Conv1D, MaxPooling1D, Embedding, Dropout\n",
    "from keras.models import Model\n",
    "from keras.callbacks import ModelCheckpoint\n",
    "import matplotlib.pyplot as plt\n",
    "plt.switch_backend('agg')\n",
    "%matplotlib inline"
   ]
  },
  {
   "cell_type": "code",
   "execution_count": 37,
   "id": "7168faec",
   "metadata": {},
   "outputs": [],
   "source": [
    "import warnings\n",
    "warnings.filterwarnings(\"ignore\")"
   ]
  },
  {
   "cell_type": "code",
   "execution_count": 38,
   "id": "d723778c",
   "metadata": {},
   "outputs": [],
   "source": [
    "#Importer les données\n",
    "import os\n",
    "os.chdir('C:\\\\Users\\\\massermouh\\\\Downloads')\n",
    "file_name = 'n16.xlsx'\n",
    "xl_file = pd.ExcelFile(file_name, engine='openpyxl', )\n",
    "df = xl_file.parse('Feuil1')\n",
    "\n",
    "#extraire la base de données contenant que les mails reçus\n",
    "\n",
    "s = '/O=EXCHANGELABS/OU=EXCHANGE ADMINISTRATIVE GROUP'\n",
    "s = s.lower()\n",
    "\n",
    "env_df = df\n",
    "env_df['From (address)'] = env_df['From (address)'].replace('-', np.nan)\n",
    "env_df = env_df.dropna(axis=0, subset=['From (address)'])\n",
    "\n",
    "env_df = env_df[env_df['From (address)'].str.lower().str.contains(s)] \n",
    "\n",
    "rec_df = df \n",
    "rec_df['From (address)'] = rec_df['From (address)'].replace('-', np.nan)\n",
    "rec_df = rec_df.merge(env_df, how=\"left\", left_on=df.columns.values.tolist(), right_on=df.columns.values.tolist(), indicator=True)\n",
    "rec_df = rec_df.query(\"_merge == 'left_only'\")[df.columns.values.tolist()]\n",
    "\n",
    "# Remplacer les données manquantes par une chaine de caractères vide\n",
    "\n",
    "rec_df.fillna('',inplace=True)\n",
    "#rec_df.info()\n",
    "\n",
    "# création d'un dataframe avec une colonne texte contenant le body le sujet et les expéditeurs\n",
    "\n",
    "matrice = pd.DataFrame()\n",
    "matrice[\"text\"] = rec_df['From (address)'].astype(str) + rec_df[\"Subject\"].astype(str) + rec_df[\"Body\"].astype(str)"
   ]
  },
  {
   "cell_type": "code",
   "execution_count": 29,
   "id": "c2d79dc5",
   "metadata": {},
   "outputs": [
    {
     "data": {
      "text/plain": [
       "pandas.core.series.Series"
      ]
     },
     "execution_count": 29,
     "metadata": {},
     "output_type": "execute_result"
    }
   ],
   "source": [
    "type(matrice[\"text\"])"
   ]
  },
  {
   "cell_type": "code",
   "execution_count": 39,
   "id": "01fab4a5",
   "metadata": {},
   "outputs": [
    {
     "name": "stderr",
     "output_type": "stream",
     "text": [
      "[nltk_data] Downloading package stopwords to\n",
      "[nltk_data]     C:\\Users\\massermouh\\AppData\\Roaming\\nltk_data...\n",
      "[nltk_data]   Package stopwords is already up-to-date!\n"
     ]
    }
   ],
   "source": [
    "import nltk\n",
    "\n",
    "nltk.download('stopwords')\n",
    "\n",
    "from nltk.corpus import stopwords\n",
    "\n",
    "### Génération des attributs textuels :\n",
    "\n",
    "messages = matrice[\"text\"]\n",
    "\n",
    "## Preprocessing : \n",
    "\n",
    "#Preprocess text messages\n",
    "\n",
    "# Replace URLs with 'webaddress'\n",
    "processed = messages.str.replace(r'^http\\://[a-zA-Z0-9\\-\\.]+\\.[a-zA-Z]{2,3}(/\\S*)?$',\n",
    "                                  'webaddress')\n",
    "\n",
    "# Replace money symbols with 'moneysymb' (£ can by typed with ALT key + 156)\n",
    "processed = processed.str.replace(r'£|\\$', 'moneysymb')\n",
    "    \n",
    "# Replace 10 digit phone numbers (formats include paranthesis, spaces, no spaces, dashes) with 'phonenumber'\n",
    "processed = processed.str.replace(r'^\\(?[\\d]{3}\\)?[\\s-]?[\\d]{3}[\\s-]?[\\d]{4}$',\n",
    "                                  'phonenumbr')\n",
    "    \n",
    "# Replace numbers with 'numbr'\n",
    "processed = processed.str.replace(r'\\d+(\\.\\d+)?', 'numbr')\n",
    "\n",
    "# Remove punctuation\n",
    "processed = processed.str.replace(r'[^\\w\\d\\s]', ' ')\n",
    "\n",
    "# Replace whitespace between terms with a single space\n",
    "processed = processed.str.replace(r'\\s+', ' ')\n",
    "\n",
    "# Remove leading and trailing whitespace\n",
    "processed = processed.str.replace(r'^\\s+|\\s+?$', '')\n",
    "\n",
    "# change words to lower case \n",
    "processed = processed.str.lower()\n",
    "\n",
    "# remove french stop words from text messages\n",
    "\n",
    "stop_words = set(stopwords.words('french'))\n",
    "\n",
    "processed = processed.apply(lambda x: ' '.join(\n",
    "    term for term in x.split() if term not in stop_words))\n",
    "\n",
    "# remove english stop words from text messages\n",
    "\n",
    "stop_words = set(stopwords.words('english'))\n",
    "# stop_words.add('bonjour')\n",
    "stop_words.add('please')\n",
    "stop_words.add('mailto')\n",
    "stop_words.add('mail')\n",
    "stop_words.add('numbr')\n",
    "# stop_words.add('cordialement')\n",
    "stop_words.add('e')\n",
    "stop_words.add('virus')\n",
    "stop_words.add('antiphishing')\n",
    "stop_words.add('merci')\n",
    "stop_words.add('com')\n",
    "stop_words.add('fr')\n",
    "stop_words.add('https')\n",
    "stop_words.add('bjenumbrywvybnumbrbhcmnaznumbrjvdxbllwlkzweuynumbrt')\n",
    "\n",
    "processed = processed.apply(lambda x: ' '.join(\n",
    "    term for term in x.split() if term not in stop_words))"
   ]
  },
  {
   "cell_type": "code",
   "execution_count": 40,
   "id": "1895bdaa",
   "metadata": {},
   "outputs": [],
   "source": [
    "labels = np.load( 'n16_labels.npy' )"
   ]
  },
  {
   "cell_type": "code",
   "execution_count": 41,
   "id": "a0258553",
   "metadata": {},
   "outputs": [],
   "source": [
    "texts = messages.to_list()"
   ]
  },
  {
   "cell_type": "code",
   "execution_count": 11,
   "id": "f27b672c",
   "metadata": {},
   "outputs": [
    {
     "data": {
      "text/plain": [
       "str"
      ]
     },
     "execution_count": 11,
     "metadata": {},
     "output_type": "execute_result"
    }
   ],
   "source": [
    "type(texts[0])"
   ]
  },
  {
   "cell_type": "code",
   "execution_count": 42,
   "id": "6ba2285f",
   "metadata": {},
   "outputs": [],
   "source": [
    "MAX_SEQUENCE_LENGTH = max([len(d.split()) for d in messages.to_numpy()])\n",
    "MAX_NB_WORDS = 20000\n",
    "EMBEDDING_DIM = 100\n",
    "VALIDATION_SPLIT = 0.2"
   ]
  },
  {
   "cell_type": "code",
   "execution_count": 43,
   "id": "67239d69",
   "metadata": {},
   "outputs": [
    {
     "name": "stdout",
     "output_type": "stream",
     "text": [
      "Number of Unique Tokens 14003\n"
     ]
    }
   ],
   "source": [
    "tokenizer = Tokenizer(num_words=MAX_NB_WORDS)\n",
    "tokenizer.fit_on_texts(texts)\n",
    "sequences = tokenizer.texts_to_sequences(texts)\n",
    "\n",
    "word_index = tokenizer.word_index\n",
    "print('Number of Unique Tokens',len(word_index))"
   ]
  },
  {
   "cell_type": "code",
   "execution_count": 44,
   "id": "a086680f",
   "metadata": {},
   "outputs": [
    {
     "name": "stdout",
     "output_type": "stream",
     "text": [
      "Shape of Data Tensor: (1661, 4167)\n",
      "Shape of Label Tensor: (1661, 2)\n"
     ]
    }
   ],
   "source": [
    "data = pad_sequences(sequences, maxlen=MAX_SEQUENCE_LENGTH)\n",
    "\n",
    "labels = to_categorical(np.asarray(labels))\n",
    "print('Shape of Data Tensor:', data.shape)\n",
    "print('Shape of Label Tensor:', labels.shape)\n",
    "\n",
    "indices = np.arange(data.shape[0])\n",
    "np.random.shuffle(indices)\n",
    "data = data[indices]\n",
    "labels = labels[indices]\n",
    "nb_validation_samples = int(VALIDATION_SPLIT * data.shape[0])\n",
    "\n",
    "x_train = data[:-nb_validation_samples]\n",
    "y_train = labels[:-nb_validation_samples]\n",
    "x_val = data[-nb_validation_samples:]\n",
    "y_val = labels[-nb_validation_samples:]"
   ]
  },
  {
   "cell_type": "code",
   "execution_count": 29,
   "id": "72471fac",
   "metadata": {},
   "outputs": [
    {
     "data": {
      "text/plain": [
       "'C:\\\\Users\\\\massermouh\\\\Downloads'"
      ]
     },
     "execution_count": 29,
     "metadata": {},
     "output_type": "execute_result"
    }
   ],
   "source": [
    "os.getcwd()"
   ]
  },
  {
   "cell_type": "code",
   "execution_count": 15,
   "id": "7195a02a",
   "metadata": {},
   "outputs": [
    {
     "name": "stdout",
     "output_type": "stream",
     "text": [
      "Total 400000 word vectors in Glove 6B 100d.\n"
     ]
    }
   ],
   "source": [
    "embeddings_index = {}\n",
    "f = open('glove.6B/glove.6B.100d.txt',encoding='utf8')\n",
    "for line in f:\n",
    "    values = line.split()\n",
    "    word = values[0]\n",
    "    coefs = np.asarray(values[1:], dtype='float32')\n",
    "    embeddings_index[word] = coefs\n",
    "f.close()\n",
    "\n",
    "print('Total %s word vectors in Glove 6B 100d.' % len(embeddings_index))"
   ]
  },
  {
   "cell_type": "code",
   "execution_count": 18,
   "id": "ee02f822",
   "metadata": {},
   "outputs": [],
   "source": [
    "embedding_matrix = np.random.random((len(word_index) + 1, EMBEDDING_DIM))\n",
    "for word, i in word_index.items():\n",
    "    embedding_vector = embeddings_index.get(word)\n",
    "    if embedding_vector is not None:\n",
    "        # words not found in embedding index will be all-zeros.\n",
    "        embedding_matrix[i] = embedding_vector\n",
    "\n",
    "embedding_layer = Embedding(len(word_index) + 1,\n",
    "                            EMBEDDING_DIM,weights=[embedding_matrix],\n",
    "                            input_length=MAX_SEQUENCE_LENGTH,trainable=True)"
   ]
  },
  {
   "cell_type": "code",
   "execution_count": 19,
   "id": "c28ecebf",
   "metadata": {},
   "outputs": [
    {
     "name": "stdout",
     "output_type": "stream",
     "text": [
      "Simplified convolutional neural network\n",
      "Model: \"model\"\n",
      "_________________________________________________________________\n",
      " Layer (type)                Output Shape              Param #   \n",
      "=================================================================\n",
      " input_1 (InputLayer)        [(None, 4167)]            0         \n",
      "                                                                 \n",
      " embedding (Embedding)       (None, 4167, 100)         1400400   \n",
      "                                                                 \n",
      " conv1d (Conv1D)             (None, 4163, 128)         64128     \n",
      "                                                                 \n",
      " max_pooling1d (MaxPooling1D  (None, 832, 128)         0         \n",
      " )                                                               \n",
      "                                                                 \n",
      " conv1d_1 (Conv1D)           (None, 828, 128)          82048     \n",
      "                                                                 \n",
      " max_pooling1d_1 (MaxPooling  (None, 165, 128)         0         \n",
      " 1D)                                                             \n",
      "                                                                 \n",
      " conv1d_2 (Conv1D)           (None, 161, 128)          82048     \n",
      "                                                                 \n",
      " max_pooling1d_2 (MaxPooling  (None, 4, 128)           0         \n",
      " 1D)                                                             \n",
      "                                                                 \n",
      " flatten (Flatten)           (None, 512)               0         \n",
      "                                                                 \n",
      " dense (Dense)               (None, 128)               65664     \n",
      "                                                                 \n",
      " dense_1 (Dense)             (None, 2)                 258       \n",
      "                                                                 \n",
      "=================================================================\n",
      "Total params: 1,694,546\n",
      "Trainable params: 1,694,546\n",
      "Non-trainable params: 0\n",
      "_________________________________________________________________\n"
     ]
    }
   ],
   "source": [
    "sequence_input = Input(shape=(MAX_SEQUENCE_LENGTH,), dtype='int32')\n",
    "embedded_sequences = embedding_layer(sequence_input)\n",
    "l_cov1= Conv1D(128, 5, activation='relu')(embedded_sequences)\n",
    "l_pool1 = MaxPooling1D(5)(l_cov1)\n",
    "l_cov2 = Conv1D(128, 5, activation='relu')(l_pool1)\n",
    "l_pool2 = MaxPooling1D(5)(l_cov2)\n",
    "l_cov3 = Conv1D(128, 5, activation='relu')(l_pool2)\n",
    "l_pool3 = MaxPooling1D(35)(l_cov3)  # global max pooling\n",
    "l_flat = Flatten()(l_pool3)\n",
    "l_dense = Dense(128, activation='relu')(l_flat)\n",
    "preds = Dense(2, activation='softmax')(l_dense)\n",
    "\n",
    "model = Model(sequence_input, preds)\n",
    "model.compile(loss='categorical_crossentropy',\n",
    "              optimizer='rmsprop',\n",
    "              metrics=['acc'])\n",
    "\n",
    "print(\"Simplified convolutional neural network\")\n",
    "model.summary()\n",
    "cp=ModelCheckpoint('model_cnn.hdf5',monitor='val_acc',verbose=1,save_best_only=True)"
   ]
  },
  {
   "cell_type": "code",
   "execution_count": 34,
   "id": "437495dc",
   "metadata": {},
   "outputs": [
    {
     "name": "stdout",
     "output_type": "stream",
     "text": [
      "Epoch 1/15\n",
      "665/665 [==============================] - ETA: 0s - loss: 0.7109 - acc: 0.6614\n",
      "Epoch 1: val_acc improved from -inf to 0.68373, saving model to model_cnn.hdf5\n",
      "665/665 [==============================] - 327s 487ms/step - loss: 0.7109 - acc: 0.6614 - val_loss: 0.5645 - val_acc: 0.6837\n",
      "Epoch 2/15\n",
      "665/665 [==============================] - ETA: 0s - loss: 0.6165 - acc: 0.7073\n",
      "Epoch 2: val_acc improved from 0.68373 to 0.74398, saving model to model_cnn.hdf5\n",
      "665/665 [==============================] - 307s 462ms/step - loss: 0.6165 - acc: 0.7073 - val_loss: 0.5469 - val_acc: 0.7440\n",
      "Epoch 3/15\n",
      "665/665 [==============================] - ETA: 0s - loss: 0.6509 - acc: 0.7487\n",
      "Epoch 3: val_acc improved from 0.74398 to 0.76807, saving model to model_cnn.hdf5\n",
      "665/665 [==============================] - 215s 323ms/step - loss: 0.6509 - acc: 0.7487 - val_loss: 0.5278 - val_acc: 0.7681\n",
      "Epoch 4/15\n",
      "665/665 [==============================] - ETA: 0s - loss: 0.5544 - acc: 0.7750\n",
      "Epoch 4: val_acc did not improve from 0.76807\n",
      "665/665 [==============================] - 173s 261ms/step - loss: 0.5544 - acc: 0.7750 - val_loss: 1.1017 - val_acc: 0.6988\n",
      "Epoch 5/15\n",
      "665/665 [==============================] - ETA: 0s - loss: 0.5090 - acc: 0.7916\n",
      "Epoch 5: val_acc improved from 0.76807 to 0.78313, saving model to model_cnn.hdf5\n",
      "665/665 [==============================] - 171s 257ms/step - loss: 0.5090 - acc: 0.7916 - val_loss: 0.4707 - val_acc: 0.7831\n",
      "Epoch 6/15\n",
      "665/665 [==============================] - ETA: 0s - loss: 0.4898 - acc: 0.8187\n",
      "Epoch 6: val_acc did not improve from 0.78313\n",
      "665/665 [==============================] - 168s 253ms/step - loss: 0.4898 - acc: 0.8187 - val_loss: 0.5739 - val_acc: 0.7831\n",
      "Epoch 7/15\n",
      "665/665 [==============================] - ETA: 0s - loss: 0.4427 - acc: 0.8352\n",
      "Epoch 7: val_acc improved from 0.78313 to 0.78614, saving model to model_cnn.hdf5\n",
      "665/665 [==============================] - 170s 255ms/step - loss: 0.4427 - acc: 0.8352 - val_loss: 0.8237 - val_acc: 0.7861\n",
      "Epoch 8/15\n",
      "665/665 [==============================] - ETA: 0s - loss: 0.4446 - acc: 0.8360\n",
      "Epoch 8: val_acc improved from 0.78614 to 0.79217, saving model to model_cnn.hdf5\n",
      "665/665 [==============================] - 169s 254ms/step - loss: 0.4446 - acc: 0.8360 - val_loss: 0.9873 - val_acc: 0.7922\n",
      "Epoch 9/15\n",
      "665/665 [==============================] - ETA: 0s - loss: 0.4753 - acc: 0.8412\n",
      "Epoch 9: val_acc did not improve from 0.79217\n",
      "665/665 [==============================] - 170s 256ms/step - loss: 0.4753 - acc: 0.8412 - val_loss: 0.8655 - val_acc: 0.7861\n",
      "Epoch 10/15\n",
      "665/665 [==============================] - ETA: 0s - loss: 0.4614 - acc: 0.8412\n",
      "Epoch 10: val_acc did not improve from 0.79217\n",
      "665/665 [==============================] - 169s 254ms/step - loss: 0.4614 - acc: 0.8412 - val_loss: 0.8083 - val_acc: 0.7922\n",
      "Epoch 11/15\n",
      "665/665 [==============================] - ETA: 0s - loss: 0.4067 - acc: 0.8518\n",
      "Epoch 11: val_acc did not improve from 0.79217\n",
      "665/665 [==============================] - 171s 257ms/step - loss: 0.4067 - acc: 0.8518 - val_loss: 0.7824 - val_acc: 0.7892\n",
      "Epoch 12/15\n",
      "665/665 [==============================] - ETA: 0s - loss: 0.3686 - acc: 0.8548\n",
      "Epoch 12: val_acc did not improve from 0.79217\n",
      "665/665 [==============================] - 169s 253ms/step - loss: 0.3686 - acc: 0.8548 - val_loss: 1.6702 - val_acc: 0.7922\n",
      "Epoch 13/15\n",
      "665/665 [==============================] - ETA: 0s - loss: 0.4524 - acc: 0.8510\n",
      "Epoch 13: val_acc did not improve from 0.79217\n",
      "665/665 [==============================] - 169s 255ms/step - loss: 0.4524 - acc: 0.8510 - val_loss: 1.1368 - val_acc: 0.7892\n",
      "Epoch 14/15\n",
      "665/665 [==============================] - ETA: 0s - loss: 0.4231 - acc: 0.8525\n",
      "Epoch 14: val_acc did not improve from 0.79217\n",
      "665/665 [==============================] - 169s 255ms/step - loss: 0.4231 - acc: 0.8525 - val_loss: 1.3983 - val_acc: 0.7922\n",
      "Epoch 15/15\n",
      "665/665 [==============================] - ETA: 0s - loss: 0.3558 - acc: 0.8570\n",
      "Epoch 15: val_acc did not improve from 0.79217\n",
      "665/665 [==============================] - 170s 255ms/step - loss: 0.3558 - acc: 0.8570 - val_loss: 1.7605 - val_acc: 0.7922\n"
     ]
    }
   ],
   "source": [
    "history=model.fit(x_train, y_train, validation_data=(x_val, y_val),epochs=15, batch_size=2,callbacks=[cp])"
   ]
  },
  {
   "cell_type": "code",
   "execution_count": 35,
   "id": "b34d0855",
   "metadata": {},
   "outputs": [
    {
     "data": {
      "image/png": "[encoded data removed]",
      "text/plain": [
       "<Figure size 432x288 with 1 Axes>"
      ]
     },
     "metadata": {
      "needs_background": "light"
     },
     "output_type": "display_data"
    }
   ],
   "source": [
    "fig1 = plt.figure()\n",
    "plt.plot(history.history['loss'],'r',linewidth=3.0)\n",
    "plt.plot(history.history['val_loss'],'b',linewidth=3.0)\n",
    "plt.legend(['Training loss', 'Validation Loss'],fontsize=18)\n",
    "plt.xlabel('Epochs ',fontsize=16)\n",
    "plt.ylabel('Loss',fontsize=16)\n",
    "plt.title('Loss Curves :CNN',fontsize=16)\n",
    "fig1.savefig('loss_cnn.png')\n",
    "plt.show()"
   ]
  },
  {
   "cell_type": "code",
   "execution_count": 36,
   "id": "bf31d249",
   "metadata": {},
   "outputs": [
    {
     "data": {
      "image/png": "[encoded data removed]",
      "text/plain": [
       "<Figure size 432x288 with 1 Axes>"
      ]
     },
     "metadata": {
      "needs_background": "light"
     },
     "output_type": "display_data"
    }
   ],
   "source": [
    "fig2=plt.figure()\n",
    "plt.plot(history.history['acc'],'r',linewidth=3.0)\n",
    "plt.plot(history.history['val_acc'],'b',linewidth=3.0)\n",
    "plt.legend(['Training Accuracy', 'Validation Accuracy'],fontsize=18)\n",
    "plt.xlabel('Epochs ',fontsize=16)\n",
    "plt.ylabel('Accuracy',fontsize=16)\n",
    "plt.title('Accuracy Curves : CNN',fontsize=16)\n",
    "fig2.savefig('accuracy_cnn.png')\n",
    "plt.show()"
   ]
  },
  {
   "cell_type": "markdown",
   "id": "0106373a",
   "metadata": {},
   "source": [
    "## RNN"
   ]
  },
  {
   "cell_type": "code",
   "execution_count": 38,
   "id": "4b58cf32",
   "metadata": {},
   "outputs": [
    {
     "name": "stdout",
     "output_type": "stream",
     "text": [
      "Bidirectional LSTM\n",
      "Model: \"model_1\"\n",
      "_________________________________________________________________\n",
      " Layer (type)                Output Shape              Param #   \n",
      "=================================================================\n",
      " input_4 (InputLayer)        [(None, 32856)]           0         \n",
      "                                                                 \n",
      " embedding (Embedding)       (None, 32856, 100)        1400400   \n",
      "                                                                 \n",
      " bidirectional (Bidirectiona  (None, 200)              160800    \n",
      " l)                                                              \n",
      "                                                                 \n",
      " dense_3 (Dense)             (None, 2)                 402       \n",
      "                                                                 \n",
      "=================================================================\n",
      "Total params: 1,561,602\n",
      "Trainable params: 1,561,602\n",
      "Non-trainable params: 0\n",
      "_________________________________________________________________\n"
     ]
    }
   ],
   "source": [
    "from keras.layers import Conv1D, MaxPooling1D, Embedding, Dropout, LSTM, GRU, Bidirectional\n",
    "\n",
    "sequence_input = Input(shape=(MAX_SEQUENCE_LENGTH,), dtype='int32')\n",
    "embedded_sequences = embedding_layer(sequence_input)\n",
    "l_lstm = Bidirectional(LSTM(100))(embedded_sequences)\n",
    "preds = Dense(2, activation='softmax')(l_lstm)\n",
    "model = Model(sequence_input, preds)\n",
    "model.compile(loss='categorical_crossentropy',\n",
    "              optimizer='rmsprop',\n",
    "              metrics=['acc'])\n",
    "\n",
    "print(\"Bidirectional LSTM\")\n",
    "model.summary()"
   ]
  },
  {
   "cell_type": "markdown",
   "id": "877e0e20",
   "metadata": {},
   "source": [
    "## Bert"
   ]
  },
  {
   "cell_type": "code",
   "execution_count": 27,
   "id": "15c785a6",
   "metadata": {},
   "outputs": [],
   "source": [
    "import tensorflow as tf\n",
    "import tensorflow_hub as hub\n",
    "import tensorflow_text as text\n",
    "import pandas as pd"
   ]
  },
  {
   "cell_type": "code",
   "execution_count": 35,
   "id": "2185fa8e",
   "metadata": {},
   "outputs": [],
   "source": [
    "bert_preprocess = hub.KerasLayer(\"https://tfhub.dev/tensorflow/bert_en_uncased_preprocess/3\")\n",
    "bert_encoder = hub.KerasLayer(\"https://tfhub.dev/tensorflow/bert_en_uncased_L-12_H-768_A-12/4\")"
   ]
  },
  {
   "cell_type": "code",
   "execution_count": 34,
   "id": "645a8016",
   "metadata": {},
   "outputs": [
    {
     "ename": "ValueError",
     "evalue": "Exception encountered when calling layer \"keras_layer_3\" (type KerasLayer).\n\nin user code:\n\n    File \"C:\\Users\\massermouh\\AppData\\Local\\Programs\\Python\\Python310\\lib\\site-packages\\tensorflow_hub\\keras_layer.py\", line 237, in call  *\n        result = smart_cond.smart_cond(training,\n\n    ValueError: Could not find matching concrete function to call loaded from the SavedModel. Got:\n      Positional arguments (3 total):\n        * {'input_mask': <tf.Tensor 'inputs:0' shape=(None, 128) dtype=int32>,\n     'input_word_ids': <tf.Tensor 'inputs_1:0' shape=(None, 128) dtype=int32>}\n        * False\n        * None\n      Keyword arguments: {}\n    \n     Expected these arguments to match one of the following 4 option(s):\n    \n    Option 1:\n      Positional arguments (3 total):\n        * {'input_mask': TensorSpec(shape=(None, None), dtype=tf.int32, name='input_mask'),\n     'input_type_ids': TensorSpec(shape=(None, None), dtype=tf.int32, name='input_type_ids'),\n     'input_word_ids': TensorSpec(shape=(None, None), dtype=tf.int32, name='input_word_ids')}\n        * False\n        * None\n      Keyword arguments: {}\n    \n    Option 2:\n      Positional arguments (3 total):\n        * {'input_mask': TensorSpec(shape=(None, None), dtype=tf.int32, name='inputs/input_mask'),\n     'input_type_ids': TensorSpec(shape=(None, None), dtype=tf.int32, name='inputs/input_type_ids'),\n     'input_word_ids': TensorSpec(shape=(None, None), dtype=tf.int32, name='inputs/input_word_ids')}\n        * False\n        * None\n      Keyword arguments: {}\n    \n    Option 3:\n      Positional arguments (3 total):\n        * {'input_mask': TensorSpec(shape=(None, None), dtype=tf.int32, name='inputs/input_mask'),\n     'input_type_ids': TensorSpec(shape=(None, None), dtype=tf.int32, name='inputs/input_type_ids'),\n     'input_word_ids': TensorSpec(shape=(None, None), dtype=tf.int32, name='inputs/input_word_ids')}\n        * True\n        * None\n      Keyword arguments: {}\n    \n    Option 4:\n      Positional arguments (3 total):\n        * {'input_mask': TensorSpec(shape=(None, None), dtype=tf.int32, name='input_mask'),\n     'input_type_ids': TensorSpec(shape=(None, None), dtype=tf.int32, name='input_type_ids'),\n     'input_word_ids': TensorSpec(shape=(None, None), dtype=tf.int32, name='input_word_ids')}\n        * True\n        * None\n      Keyword arguments: {}\n\n\nCall arguments received by layer \"keras_layer_3\" (type KerasLayer):\n  • inputs={'input_mask': 'tf.Tensor(shape=(None, 128), dtype=int32)', 'input_word_ids': 'tf.Tensor(shape=(None, 128), dtype=int32)'}\n  • training=False",
     "output_type": "error",
     "traceback": [
      "\u001b[1;31m---------------------------------------------------------------------------\u001b[0m",
      "\u001b[1;31mValueError\u001b[0m                                Traceback (most recent call last)",
      "Input \u001b[1;32mIn [34]\u001b[0m, in \u001b[0;36m<cell line: 5>\u001b[1;34m()\u001b[0m\n\u001b[0;32m      3\u001b[0m text_input \u001b[38;5;241m=\u001b[39m tf\u001b[38;5;241m.\u001b[39mkeras\u001b[38;5;241m.\u001b[39mlayers\u001b[38;5;241m.\u001b[39mInput(shape\u001b[38;5;241m=\u001b[39m(), dtype\u001b[38;5;241m=\u001b[39mtf\u001b[38;5;241m.\u001b[39mstring, name\u001b[38;5;241m=\u001b[39m\u001b[38;5;124m'\u001b[39m\u001b[38;5;124mtext\u001b[39m\u001b[38;5;124m'\u001b[39m)\n\u001b[0;32m      4\u001b[0m preprocessed_text \u001b[38;5;241m=\u001b[39m bert_preprocess(text_input)\n\u001b[1;32m----> 5\u001b[0m outputs \u001b[38;5;241m=\u001b[39m \u001b[43mbert_encoder\u001b[49m\u001b[43m(\u001b[49m\u001b[43mpreprocessed_text\u001b[49m\u001b[43m)\u001b[49m\n",
      "File \u001b[1;32m~\\AppData\\Local\\Programs\\Python\\Python310\\lib\\site-packages\\keras\\utils\\traceback_utils.py:67\u001b[0m, in \u001b[0;36mfilter_traceback.<locals>.error_handler\u001b[1;34m(*args, **kwargs)\u001b[0m\n\u001b[0;32m     65\u001b[0m \u001b[38;5;28;01mexcept\u001b[39;00m \u001b[38;5;167;01mException\u001b[39;00m \u001b[38;5;28;01mas\u001b[39;00m e:  \u001b[38;5;66;03m# pylint: disable=broad-except\u001b[39;00m\n\u001b[0;32m     66\u001b[0m   filtered_tb \u001b[38;5;241m=\u001b[39m _process_traceback_frames(e\u001b[38;5;241m.\u001b[39m__traceback__)\n\u001b[1;32m---> 67\u001b[0m   \u001b[38;5;28;01mraise\u001b[39;00m e\u001b[38;5;241m.\u001b[39mwith_traceback(filtered_tb) \u001b[38;5;28;01mfrom\u001b[39;00m \u001b[38;5;28mNone\u001b[39m\n\u001b[0;32m     68\u001b[0m \u001b[38;5;28;01mfinally\u001b[39;00m:\n\u001b[0;32m     69\u001b[0m   \u001b[38;5;28;01mdel\u001b[39;00m filtered_tb\n",
      "File \u001b[1;32mC:\\Users\\MASSER~1\\AppData\\Local\\Temp\\__autograph_generated_filecpp_juiy.py:74\u001b[0m, in \u001b[0;36mouter_factory.<locals>.inner_factory.<locals>.tf__call\u001b[1;34m(self, inputs, training)\u001b[0m\n\u001b[0;32m     72\u001b[0m     result \u001b[38;5;241m=\u001b[39m ag__\u001b[38;5;241m.\u001b[39mconverted_call(ag__\u001b[38;5;241m.\u001b[39mld(smart_cond)\u001b[38;5;241m.\u001b[39msmart_cond, (ag__\u001b[38;5;241m.\u001b[39mld(training), ag__\u001b[38;5;241m.\u001b[39mautograph_artifact(\u001b[38;5;28;01mlambda\u001b[39;00m : ag__\u001b[38;5;241m.\u001b[39mconverted_call(ag__\u001b[38;5;241m.\u001b[39mld(f), (), \u001b[38;5;28mdict\u001b[39m(training\u001b[38;5;241m=\u001b[39m\u001b[38;5;28;01mTrue\u001b[39;00m), fscope)), ag__\u001b[38;5;241m.\u001b[39mautograph_artifact(\u001b[38;5;28;01mlambda\u001b[39;00m : ag__\u001b[38;5;241m.\u001b[39mconverted_call(ag__\u001b[38;5;241m.\u001b[39mld(f), (), \u001b[38;5;28mdict\u001b[39m(training\u001b[38;5;241m=\u001b[39m\u001b[38;5;28;01mFalse\u001b[39;00m), fscope))), \u001b[38;5;28;01mNone\u001b[39;00m, fscope)\n\u001b[0;32m     73\u001b[0m result \u001b[38;5;241m=\u001b[39m ag__\u001b[38;5;241m.\u001b[39mUndefined(\u001b[38;5;124m'\u001b[39m\u001b[38;5;124mresult\u001b[39m\u001b[38;5;124m'\u001b[39m)\n\u001b[1;32m---> 74\u001b[0m \u001b[43mag__\u001b[49m\u001b[38;5;241;43m.\u001b[39;49m\u001b[43mif_stmt\u001b[49m\u001b[43m(\u001b[49m\u001b[43mag__\u001b[49m\u001b[38;5;241;43m.\u001b[39;49m\u001b[43mnot_\u001b[49m\u001b[43m(\u001b[49m\u001b[43mag__\u001b[49m\u001b[38;5;241;43m.\u001b[39;49m\u001b[43mld\u001b[49m\u001b[43m(\u001b[49m\u001b[38;5;28;43mself\u001b[39;49m\u001b[43m)\u001b[49m\u001b[38;5;241;43m.\u001b[39;49m\u001b[43m_has_training_argument\u001b[49m\u001b[43m)\u001b[49m\u001b[43m,\u001b[49m\u001b[43m \u001b[49m\u001b[43mif_body_3\u001b[49m\u001b[43m,\u001b[49m\u001b[43m \u001b[49m\u001b[43melse_body_3\u001b[49m\u001b[43m,\u001b[49m\u001b[43m \u001b[49m\u001b[43mget_state_3\u001b[49m\u001b[43m,\u001b[49m\u001b[43m \u001b[49m\u001b[43mset_state_3\u001b[49m\u001b[43m,\u001b[49m\u001b[43m \u001b[49m\u001b[43m(\u001b[49m\u001b[38;5;124;43m'\u001b[39;49m\u001b[38;5;124;43mresult\u001b[39;49m\u001b[38;5;124;43m'\u001b[39;49m\u001b[43m,\u001b[49m\u001b[43m \u001b[49m\u001b[38;5;124;43m'\u001b[39;49m\u001b[38;5;124;43mtraining\u001b[39;49m\u001b[38;5;124;43m'\u001b[39;49m\u001b[43m)\u001b[49m\u001b[43m,\u001b[49m\u001b[43m \u001b[49m\u001b[38;5;241;43m1\u001b[39;49m\u001b[43m)\u001b[49m\n\u001b[0;32m     76\u001b[0m \u001b[38;5;28;01mdef\u001b[39;00m \u001b[38;5;21mget_state_6\u001b[39m():\n\u001b[0;32m     77\u001b[0m     \u001b[38;5;28;01mreturn\u001b[39;00m (result,)\n",
      "File \u001b[1;32mC:\\Users\\MASSER~1\\AppData\\Local\\Temp\\__autograph_generated_filecpp_juiy.py:72\u001b[0m, in \u001b[0;36mouter_factory.<locals>.inner_factory.<locals>.tf__call.<locals>.else_body_3\u001b[1;34m()\u001b[0m\n\u001b[0;32m     70\u001b[0m     training \u001b[38;5;241m=\u001b[39m \u001b[38;5;28;01mFalse\u001b[39;00m\n\u001b[0;32m     71\u001b[0m ag__\u001b[38;5;241m.\u001b[39mif_stmt(ag__\u001b[38;5;241m.\u001b[39mld(\u001b[38;5;28mself\u001b[39m)\u001b[38;5;241m.\u001b[39mtrainable, if_body_2, else_body_2, get_state_2, set_state_2, (\u001b[38;5;124m'\u001b[39m\u001b[38;5;124mtraining\u001b[39m\u001b[38;5;124m'\u001b[39m,), \u001b[38;5;241m1\u001b[39m)\n\u001b[1;32m---> 72\u001b[0m result \u001b[38;5;241m=\u001b[39m \u001b[43mag__\u001b[49m\u001b[38;5;241;43m.\u001b[39;49m\u001b[43mconverted_call\u001b[49m\u001b[43m(\u001b[49m\u001b[43mag__\u001b[49m\u001b[38;5;241;43m.\u001b[39;49m\u001b[43mld\u001b[49m\u001b[43m(\u001b[49m\u001b[43msmart_cond\u001b[49m\u001b[43m)\u001b[49m\u001b[38;5;241;43m.\u001b[39;49m\u001b[43msmart_cond\u001b[49m\u001b[43m,\u001b[49m\u001b[43m \u001b[49m\u001b[43m(\u001b[49m\u001b[43mag__\u001b[49m\u001b[38;5;241;43m.\u001b[39;49m\u001b[43mld\u001b[49m\u001b[43m(\u001b[49m\u001b[43mtraining\u001b[49m\u001b[43m)\u001b[49m\u001b[43m,\u001b[49m\u001b[43m \u001b[49m\u001b[43mag__\u001b[49m\u001b[38;5;241;43m.\u001b[39;49m\u001b[43mautograph_artifact\u001b[49m\u001b[43m(\u001b[49m\u001b[38;5;28;43;01mlambda\u001b[39;49;00m\u001b[43m \u001b[49m\u001b[43m:\u001b[49m\u001b[43m \u001b[49m\u001b[43mag__\u001b[49m\u001b[38;5;241;43m.\u001b[39;49m\u001b[43mconverted_call\u001b[49m\u001b[43m(\u001b[49m\u001b[43mag__\u001b[49m\u001b[38;5;241;43m.\u001b[39;49m\u001b[43mld\u001b[49m\u001b[43m(\u001b[49m\u001b[43mf\u001b[49m\u001b[43m)\u001b[49m\u001b[43m,\u001b[49m\u001b[43m \u001b[49m\u001b[43m(\u001b[49m\u001b[43m)\u001b[49m\u001b[43m,\u001b[49m\u001b[43m \u001b[49m\u001b[38;5;28;43mdict\u001b[39;49m\u001b[43m(\u001b[49m\u001b[43mtraining\u001b[49m\u001b[38;5;241;43m=\u001b[39;49m\u001b[38;5;28;43;01mTrue\u001b[39;49;00m\u001b[43m)\u001b[49m\u001b[43m,\u001b[49m\u001b[43m \u001b[49m\u001b[43mfscope\u001b[49m\u001b[43m)\u001b[49m\u001b[43m)\u001b[49m\u001b[43m,\u001b[49m\u001b[43m \u001b[49m\u001b[43mag__\u001b[49m\u001b[38;5;241;43m.\u001b[39;49m\u001b[43mautograph_artifact\u001b[49m\u001b[43m(\u001b[49m\u001b[38;5;28;43;01mlambda\u001b[39;49;00m\u001b[43m \u001b[49m\u001b[43m:\u001b[49m\u001b[43m \u001b[49m\u001b[43mag__\u001b[49m\u001b[38;5;241;43m.\u001b[39;49m\u001b[43mconverted_call\u001b[49m\u001b[43m(\u001b[49m\u001b[43mag__\u001b[49m\u001b[38;5;241;43m.\u001b[39;49m\u001b[43mld\u001b[49m\u001b[43m(\u001b[49m\u001b[43mf\u001b[49m\u001b[43m)\u001b[49m\u001b[43m,\u001b[49m\u001b[43m \u001b[49m\u001b[43m(\u001b[49m\u001b[43m)\u001b[49m\u001b[43m,\u001b[49m\u001b[43m \u001b[49m\u001b[38;5;28;43mdict\u001b[39;49m\u001b[43m(\u001b[49m\u001b[43mtraining\u001b[49m\u001b[38;5;241;43m=\u001b[39;49m\u001b[38;5;28;43;01mFalse\u001b[39;49;00m\u001b[43m)\u001b[49m\u001b[43m,\u001b[49m\u001b[43m \u001b[49m\u001b[43mfscope\u001b[49m\u001b[43m)\u001b[49m\u001b[43m)\u001b[49m\u001b[43m)\u001b[49m\u001b[43m,\u001b[49m\u001b[43m \u001b[49m\u001b[38;5;28;43;01mNone\u001b[39;49;00m\u001b[43m,\u001b[49m\u001b[43m \u001b[49m\u001b[43mfscope\u001b[49m\u001b[43m)\u001b[49m\n",
      "File \u001b[1;32mC:\\Users\\MASSER~1\\AppData\\Local\\Temp\\__autograph_generated_filecpp_juiy.py:72\u001b[0m, in \u001b[0;36mouter_factory.<locals>.inner_factory.<locals>.tf__call.<locals>.else_body_3.<locals>.<lambda>\u001b[1;34m()\u001b[0m\n\u001b[0;32m     70\u001b[0m     training \u001b[38;5;241m=\u001b[39m \u001b[38;5;28;01mFalse\u001b[39;00m\n\u001b[0;32m     71\u001b[0m ag__\u001b[38;5;241m.\u001b[39mif_stmt(ag__\u001b[38;5;241m.\u001b[39mld(\u001b[38;5;28mself\u001b[39m)\u001b[38;5;241m.\u001b[39mtrainable, if_body_2, else_body_2, get_state_2, set_state_2, (\u001b[38;5;124m'\u001b[39m\u001b[38;5;124mtraining\u001b[39m\u001b[38;5;124m'\u001b[39m,), \u001b[38;5;241m1\u001b[39m)\n\u001b[1;32m---> 72\u001b[0m result \u001b[38;5;241m=\u001b[39m ag__\u001b[38;5;241m.\u001b[39mconverted_call(ag__\u001b[38;5;241m.\u001b[39mld(smart_cond)\u001b[38;5;241m.\u001b[39msmart_cond, (ag__\u001b[38;5;241m.\u001b[39mld(training), ag__\u001b[38;5;241m.\u001b[39mautograph_artifact(\u001b[38;5;28;01mlambda\u001b[39;00m : ag__\u001b[38;5;241m.\u001b[39mconverted_call(ag__\u001b[38;5;241m.\u001b[39mld(f), (), \u001b[38;5;28mdict\u001b[39m(training\u001b[38;5;241m=\u001b[39m\u001b[38;5;28;01mTrue\u001b[39;00m), fscope)), ag__\u001b[38;5;241m.\u001b[39mautograph_artifact(\u001b[38;5;28;01mlambda\u001b[39;00m : ag__\u001b[38;5;241m.\u001b[39mconverted_call(ag__\u001b[38;5;241m.\u001b[39mld(f), (), \u001b[38;5;28mdict\u001b[39m(training\u001b[38;5;241m=\u001b[39m\u001b[38;5;28;01mFalse\u001b[39;00m), fscope))), \u001b[38;5;28;01mNone\u001b[39;00m, fscope)\n",
      "\u001b[1;31mValueError\u001b[0m: Exception encountered when calling layer \"keras_layer_3\" (type KerasLayer).\n\nin user code:\n\n    File \"C:\\Users\\massermouh\\AppData\\Local\\Programs\\Python\\Python310\\lib\\site-packages\\tensorflow_hub\\keras_layer.py\", line 237, in call  *\n        result = smart_cond.smart_cond(training,\n\n    ValueError: Could not find matching concrete function to call loaded from the SavedModel. Got:\n      Positional arguments (3 total):\n        * {'input_mask': <tf.Tensor 'inputs:0' shape=(None, 128) dtype=int32>,\n     'input_word_ids': <tf.Tensor 'inputs_1:0' shape=(None, 128) dtype=int32>}\n        * False\n        * None\n      Keyword arguments: {}\n    \n     Expected these arguments to match one of the following 4 option(s):\n    \n    Option 1:\n      Positional arguments (3 total):\n        * {'input_mask': TensorSpec(shape=(None, None), dtype=tf.int32, name='input_mask'),\n     'input_type_ids': TensorSpec(shape=(None, None), dtype=tf.int32, name='input_type_ids'),\n     'input_word_ids': TensorSpec(shape=(None, None), dtype=tf.int32, name='input_word_ids')}\n        * False\n        * None\n      Keyword arguments: {}\n    \n    Option 2:\n      Positional arguments (3 total):\n        * {'input_mask': TensorSpec(shape=(None, None), dtype=tf.int32, name='inputs/input_mask'),\n     'input_type_ids': TensorSpec(shape=(None, None), dtype=tf.int32, name='inputs/input_type_ids'),\n     'input_word_ids': TensorSpec(shape=(None, None), dtype=tf.int32, name='inputs/input_word_ids')}\n        * False\n        * None\n      Keyword arguments: {}\n    \n    Option 3:\n      Positional arguments (3 total):\n        * {'input_mask': TensorSpec(shape=(None, None), dtype=tf.int32, name='inputs/input_mask'),\n     'input_type_ids': TensorSpec(shape=(None, None), dtype=tf.int32, name='inputs/input_type_ids'),\n     'input_word_ids': TensorSpec(shape=(None, None), dtype=tf.int32, name='inputs/input_word_ids')}\n        * True\n        * None\n      Keyword arguments: {}\n    \n    Option 4:\n      Positional arguments (3 total):\n        * {'input_mask': TensorSpec(shape=(None, None), dtype=tf.int32, name='input_mask'),\n     'input_type_ids': TensorSpec(shape=(None, None), dtype=tf.int32, name='input_type_ids'),\n     'input_word_ids': TensorSpec(shape=(None, None), dtype=tf.int32, name='input_word_ids')}\n        * True\n        * None\n      Keyword arguments: {}\n\n\nCall arguments received by layer \"keras_layer_3\" (type KerasLayer):\n  • inputs={'input_mask': 'tf.Tensor(shape=(None, 128), dtype=int32)', 'input_word_ids': 'tf.Tensor(shape=(None, 128), dtype=int32)'}\n  • training=False"
     ]
    }
   ],
   "source": [
    "#Initializing bert layers\n",
    "\n",
    "text_input = tf.keras.layers.Input(shape=(), dtype=tf.string, name='text')\n",
    "preprocessed_text = bert_preprocess(text_input)\n",
    "outputs = bert_encoder(preprocessed_text)"
   ]
  },
  {
   "cell_type": "code",
   "execution_count": 30,
   "id": "cc017e3c",
   "metadata": {},
   "outputs": [],
   "source": [
    "#Initializing the nn layers\n",
    "l = tf.keras.layers.Dropout(0.5, name=\"dropout\")(outputs['pooled_output'])\n",
    "l = tf.keras.layers.Dense(1, activation='sigmoid', name=\"output\")(l)"
   ]
  },
  {
   "cell_type": "code",
   "execution_count": 31,
   "id": "af2f28ff",
   "metadata": {},
   "outputs": [],
   "source": [
    "model = tf.keras.Model(inputs=[text_input], outputs = [l])"
   ]
  },
  {
   "cell_type": "code",
   "execution_count": 32,
   "id": "f21a846e",
   "metadata": {},
   "outputs": [
    {
     "name": "stdout",
     "output_type": "stream",
     "text": [
      "Model: \"model_1\"\n",
      "__________________________________________________________________________________________________\n",
      " Layer (type)                   Output Shape         Param #     Connected to                     \n",
      "==================================================================================================\n",
      " text (InputLayer)              [(None,)]            0           []                               \n",
      "                                                                                                  \n",
      " keras_layer (KerasLayer)       {'input_mask': (Non  0           ['text[0][0]']                   \n",
      "                                e, 128),                                                          \n",
      "                                 'input_type_ids':                                                \n",
      "                                (None, 128),                                                      \n",
      "                                 'input_word_ids':                                                \n",
      "                                (None, 128)}                                                      \n",
      "                                                                                                  \n",
      " keras_layer_1 (KerasLayer)     {'sequence_output':  109482241   ['keras_layer[0][0]',            \n",
      "                                 (None, 128, 768),                'keras_layer[0][1]',            \n",
      "                                 'encoder_outputs':               'keras_layer[0][2]']            \n",
      "                                 [(None, 128, 768),                                               \n",
      "                                 (None, 128, 768),                                                \n",
      "                                 (None, 128, 768),                                                \n",
      "                                 (None, 128, 768),                                                \n",
      "                                 (None, 128, 768),                                                \n",
      "                                 (None, 128, 768),                                                \n",
      "                                 (None, 128, 768),                                                \n",
      "                                 (None, 128, 768),                                                \n",
      "                                 (None, 128, 768),                                                \n",
      "                                 (None, 128, 768),                                                \n",
      "                                 (None, 128, 768),                                                \n",
      "                                 (None, 128, 768)],                                               \n",
      "                                 'pooled_output': (                                               \n",
      "                                None, 768),                                                       \n",
      "                                 'default': (None,                                                \n",
      "                                768)}                                                             \n",
      "                                                                                                  \n",
      " dropout (Dropout)              (None, 768)          0           ['keras_layer_1[0][13]']         \n",
      "                                                                                                  \n",
      " output (Dense)                 (None, 1)            769         ['dropout[0][0]']                \n",
      "                                                                                                  \n",
      "==================================================================================================\n",
      "Total params: 109,483,010\n",
      "Trainable params: 769\n",
      "Non-trainable params: 109,482,241\n",
      "__________________________________________________________________________________________________\n"
     ]
    }
   ],
   "source": [
    "model.summary()"
   ]
  },
  {
   "cell_type": "code",
   "execution_count": 47,
   "id": "bd412905",
   "metadata": {},
   "outputs": [],
   "source": [
    "#Model compiling\n",
    "METRICS = [\n",
    "      tf.keras.metrics.BinaryAccuracy(name='accuracy'),\n",
    "      tf.keras.metrics.Precision(name='precision'),\n",
    "      tf.keras.metrics.Recall(name='recall')\n",
    "]\n",
    "\n",
    "model.compile(optimizer='adam',\n",
    " loss='binary_crossentropy',\n",
    " metrics=METRICS)"
   ]
  },
  {
   "cell_type": "code",
   "execution_count": 48,
   "id": "46d8db9a",
   "metadata": {},
   "outputs": [
    {
     "data": {
      "text/plain": [
       "(1661,)"
      ]
     },
     "execution_count": 48,
     "metadata": {},
     "output_type": "execute_result"
    }
   ],
   "source": [
    "labels.shape"
   ]
  },
  {
   "cell_type": "code",
   "execution_count": 49,
   "id": "88bf5765",
   "metadata": {},
   "outputs": [],
   "source": [
    "labels = np.load(\"n16_labels.npy\")"
   ]
  },
  {
   "cell_type": "code",
   "execution_count": 50,
   "id": "e621701c",
   "metadata": {
    "scrolled": true
   },
   "outputs": [],
   "source": [
    "texts = pd.Series(texts)\n",
    "labels = pd.Series(labels)"
   ]
  },
  {
   "cell_type": "code",
   "execution_count": 51,
   "id": "96d4ec3a",
   "metadata": {},
   "outputs": [],
   "source": [
    "from sklearn.model_selection import train_test_split\n",
    "X_train, X_test, y_train, y_test = train_test_split(texts,labels, stratify=labels)"
   ]
  },
  {
   "cell_type": "code",
   "execution_count": 52,
   "id": "ae57e7b0",
   "metadata": {
    "scrolled": true
   },
   "outputs": [
    {
     "name": "stdout",
     "output_type": "stream",
     "text": [
      "Epoch 1/10\n",
      "39/39 [==============================] - 211s 5s/step - loss: 0.6850 - accuracy: 0.5767 - precision: 0.3950 - recall: 0.1629\n",
      "Epoch 2/10\n",
      "39/39 [==============================] - 224s 6s/step - loss: 0.6759 - accuracy: 0.5831 - precision: 0.3851 - recall: 0.1175\n",
      "Epoch 3/10\n",
      "39/39 [==============================] - 206s 5s/step - loss: 0.6586 - accuracy: 0.6088 - precision: 0.4915 - recall: 0.1196\n",
      "Epoch 4/10\n",
      "39/39 [==============================] - 209s 5s/step - loss: 0.6590 - accuracy: 0.6104 - precision: 0.5000 - recall: 0.1505\n",
      "Epoch 5/10\n",
      "39/39 [==============================] - 210s 5s/step - loss: 0.6602 - accuracy: 0.5952 - precision: 0.4345 - recall: 0.1299\n",
      "Epoch 6/10\n",
      "39/39 [==============================] - 205s 5s/step - loss: 0.6544 - accuracy: 0.6032 - precision: 0.4710 - recall: 0.1505\n",
      "Epoch 7/10\n",
      "39/39 [==============================] - 212s 5s/step - loss: 0.6572 - accuracy: 0.5960 - precision: 0.4643 - recall: 0.2412\n",
      "Epoch 8/10\n",
      "39/39 [==============================] - 205s 5s/step - loss: 0.6423 - accuracy: 0.6281 - precision: 0.5688 - recall: 0.1876\n",
      "Epoch 9/10\n",
      "39/39 [==============================] - 212s 5s/step - loss: 0.6378 - accuracy: 0.6153 - precision: 0.5132 - recall: 0.2412\n",
      "Epoch 10/10\n",
      "39/39 [==============================] - 213s 5s/step - loss: 0.6494 - accuracy: 0.6112 - precision: 0.5027 - recall: 0.1918\n"
     ]
    },
    {
     "data": {
      "text/plain": [
       "<keras.callbacks.History at 0x224e6f1fa90>"
      ]
     },
     "execution_count": 52,
     "metadata": {},
     "output_type": "execute_result"
    }
   ],
   "source": [
    "model.fit(X_train, y_train, epochs=10)"
   ]
  },
  {
   "cell_type": "markdown",
   "id": "a459dc7d",
   "metadata": {},
   "source": [
    "## Roberta"
   ]
  },
  {
   "cell_type": "code",
   "execution_count": 25,
   "id": "ed70f698",
   "metadata": {},
   "outputs": [
    {
     "name": "stdout",
     "output_type": "stream",
     "text": [
      "Requirement already satisfied: pip in c:\\users\\massermouh\\appdata\\local\\programs\\python\\python310\\lib\\site-packages (22.1.1)\n"
     ]
    }
   ],
   "source": [
    "!pip install --upgrade pip --user"
   ]
  },
  {
   "cell_type": "code",
   "execution_count": 26,
   "id": "e1fa4051",
   "metadata": {},
   "outputs": [
    {
     "name": "stdout",
     "output_type": "stream",
     "text": [
      "^C\n"
     ]
    }
   ],
   "source": [
    "!pip install smaberta"
   ]
  },
  {
   "cell_type": "code",
   "execution_count": 22,
   "id": "cd39c6f4",
   "metadata": {},
   "outputs": [
    {
     "ename": "ModuleNotFoundError",
     "evalue": "No module named 'smaberta'",
     "output_type": "error",
     "traceback": [
      "\u001b[1;31m---------------------------------------------------------------------------\u001b[0m",
      "\u001b[1;31mModuleNotFoundError\u001b[0m                       Traceback (most recent call last)",
      "Input \u001b[1;32mIn [22]\u001b[0m, in \u001b[0;36m<cell line: 16>\u001b[1;34m()\u001b[0m\n\u001b[0;32m     14\u001b[0m \u001b[38;5;28;01mimport\u001b[39;00m \u001b[38;5;21;01msys\u001b[39;00m\n\u001b[0;32m     15\u001b[0m sys\u001b[38;5;241m.\u001b[39mpath\u001b[38;5;241m.\u001b[39mappend(\u001b[38;5;124m'\u001b[39m\u001b[38;5;124m../smaberta\u001b[39m\u001b[38;5;124m'\u001b[39m)\n\u001b[1;32m---> 16\u001b[0m \u001b[38;5;28;01mfrom\u001b[39;00m \u001b[38;5;21;01msmaberta\u001b[39;00m \u001b[38;5;28;01mimport\u001b[39;00m TransformerModel\n",
      "\u001b[1;31mModuleNotFoundError\u001b[0m: No module named 'smaberta'"
     ]
    }
   ],
   "source": [
    "import warnings\n",
    "warnings.filterwarnings('ignore')\n",
    "\n",
    "import pandas as pd\n",
    "import numpy as np\n",
    "import random\n",
    "import torch\n",
    "import pickle\n",
    "random.seed(1)\n",
    "np.random.seed(1)\n",
    "torch.manual_seed(1)\n",
    "torch.cuda.manual_seed(1)\n",
    "\n",
    "import sys\n",
    "sys.path.append('../smaberta')\n",
    "from smaberta import TransformerModel"
   ]
  },
  {
   "cell_type": "markdown",
   "id": "70b43e65",
   "metadata": {},
   "source": [
    "## Try again"
   ]
  },
  {
   "cell_type": "code",
   "execution_count": 49,
   "id": "32da3892",
   "metadata": {},
   "outputs": [
    {
     "name": "stdout",
     "output_type": "stream",
     "text": [
      "Collecting simpletransformers==0.28.2\n",
      "  Downloading simpletransformers-0.28.2-py3-none-any.whl (184 kB)\n",
      "     -------------------------------------- 184.4/184.4 kB 2.8 MB/s eta 0:00:00\n",
      "Requirement already satisfied: seqeval in c:\\users\\massermouh\\appdata\\local\\programs\\python\\python310\\lib\\site-packages (from simpletransformers==0.28.2) (1.2.2)\n",
      "Requirement already satisfied: scipy in c:\\users\\massermouh\\appdata\\local\\programs\\python\\python310\\lib\\site-packages (from simpletransformers==0.28.2) (1.8.0)\n",
      "Requirement already satisfied: tqdm in c:\\users\\massermouh\\appdata\\local\\programs\\python\\python310\\lib\\site-packages (from simpletransformers==0.28.2) (4.64.0)\n",
      "Requirement already satisfied: numpy in c:\\users\\massermouh\\appdata\\local\\programs\\python\\python310\\lib\\site-packages (from simpletransformers==0.28.2) (1.21.6)\n",
      "Collecting tensorboardx\n",
      "  Using cached tensorboardX-2.5-py2.py3-none-any.whl (125 kB)\n",
      "Requirement already satisfied: scikit-learn in c:\\users\\massermouh\\appdata\\local\\programs\\python\\python310\\lib\\site-packages (from simpletransformers==0.28.2) (1.0.2)\n",
      "Requirement already satisfied: pandas in c:\\users\\massermouh\\appdata\\local\\programs\\python\\python310\\lib\\site-packages (from simpletransformers==0.28.2) (1.4.2)\n",
      "Requirement already satisfied: tokenizers in c:\\users\\massermouh\\appdata\\local\\programs\\python\\python310\\lib\\site-packages (from simpletransformers==0.28.2) (0.12.1)\n",
      "Requirement already satisfied: regex in c:\\users\\massermouh\\appdata\\local\\programs\\python\\python310\\lib\\site-packages (from simpletransformers==0.28.2) (2022.3.15)\n",
      "Requirement already satisfied: requests in c:\\users\\massermouh\\appdata\\local\\programs\\python\\python310\\lib\\site-packages (from simpletransformers==0.28.2) (2.27.1)\n",
      "Requirement already satisfied: transformers>=2.9.0 in c:\\users\\massermouh\\appdata\\roaming\\python\\python310\\site-packages (from simpletransformers==0.28.2) (4.18.0)\n",
      "Requirement already satisfied: sacremoses in c:\\users\\massermouh\\appdata\\roaming\\python\\python310\\site-packages (from transformers>=2.9.0->simpletransformers==0.28.2) (0.0.49)\n",
      "Requirement already satisfied: filelock in c:\\users\\massermouh\\appdata\\roaming\\python\\python310\\site-packages (from transformers>=2.9.0->simpletransformers==0.28.2) (3.6.0)\n",
      "Requirement already satisfied: huggingface-hub<1.0,>=0.1.0 in c:\\users\\massermouh\\appdata\\roaming\\python\\python310\\site-packages (from transformers>=2.9.0->simpletransformers==0.28.2) (0.5.1)\n",
      "Requirement already satisfied: pyyaml>=5.1 in c:\\users\\massermouh\\appdata\\local\\programs\\python\\python310\\lib\\site-packages (from transformers>=2.9.0->simpletransformers==0.28.2) (5.4.1)\n",
      "Requirement already satisfied: packaging>=20.0 in c:\\users\\massermouh\\appdata\\local\\programs\\python\\python310\\lib\\site-packages (from transformers>=2.9.0->simpletransformers==0.28.2) (21.3)\n",
      "Requirement already satisfied: colorama in c:\\users\\massermouh\\appdata\\local\\programs\\python\\python310\\lib\\site-packages (from tqdm->simpletransformers==0.28.2) (0.4.4)\n",
      "Requirement already satisfied: pytz>=2020.1 in c:\\users\\massermouh\\appdata\\local\\programs\\python\\python310\\lib\\site-packages (from pandas->simpletransformers==0.28.2) (2022.1)\n",
      "Requirement already satisfied: python-dateutil>=2.8.1 in c:\\users\\massermouh\\appdata\\local\\programs\\python\\python310\\lib\\site-packages (from pandas->simpletransformers==0.28.2) (2.8.2)\n",
      "Requirement already satisfied: urllib3<1.27,>=1.21.1 in c:\\users\\massermouh\\appdata\\local\\programs\\python\\python310\\lib\\site-packages (from requests->simpletransformers==0.28.2) (1.26.9)\n",
      "Requirement already satisfied: charset-normalizer~=2.0.0 in c:\\users\\massermouh\\appdata\\local\\programs\\python\\python310\\lib\\site-packages (from requests->simpletransformers==0.28.2) (2.0.12)\n",
      "Requirement already satisfied: idna<4,>=2.5 in c:\\users\\massermouh\\appdata\\local\\programs\\python\\python310\\lib\\site-packages (from requests->simpletransformers==0.28.2) (3.3)\n",
      "Requirement already satisfied: certifi>=2017.4.17 in c:\\users\\massermouh\\appdata\\local\\programs\\python\\python310\\lib\\site-packages (from requests->simpletransformers==0.28.2) (2021.10.8)\n",
      "Requirement already satisfied: joblib>=0.11 in c:\\users\\massermouh\\appdata\\local\\programs\\python\\python310\\lib\\site-packages (from scikit-learn->simpletransformers==0.28.2) (1.1.0)\n",
      "Requirement already satisfied: threadpoolctl>=2.0.0 in c:\\users\\massermouh\\appdata\\local\\programs\\python\\python310\\lib\\site-packages (from scikit-learn->simpletransformers==0.28.2) (3.1.0)\n",
      "Requirement already satisfied: six in c:\\users\\massermouh\\appdata\\local\\programs\\python\\python310\\lib\\site-packages (from tensorboardx->simpletransformers==0.28.2) (1.16.0)\n",
      "Requirement already satisfied: protobuf>=3.8.0 in c:\\users\\massermouh\\appdata\\local\\programs\\python\\python310\\lib\\site-packages (from tensorboardx->simpletransformers==0.28.2) (3.20.1)\n",
      "Requirement already satisfied: typing-extensions>=3.7.4.3 in c:\\users\\massermouh\\appdata\\local\\programs\\python\\python310\\lib\\site-packages (from huggingface-hub<1.0,>=0.1.0->transformers>=2.9.0->simpletransformers==0.28.2) (4.1.1)\n",
      "Requirement already satisfied: pyparsing!=3.0.5,>=2.0.2 in c:\\users\\massermouh\\appdata\\local\\programs\\python\\python310\\lib\\site-packages (from packaging>=20.0->transformers>=2.9.0->simpletransformers==0.28.2) (3.0.8)\n",
      "Requirement already satisfied: click in c:\\users\\massermouh\\appdata\\local\\programs\\python\\python310\\lib\\site-packages (from sacremoses->transformers>=2.9.0->simpletransformers==0.28.2) (8.0.4)\n",
      "Installing collected packages: tensorboardx, simpletransformers\n",
      "  Attempting uninstall: simpletransformers\n",
      "    Found existing installation: simpletransformers 0.63.6\n",
      "    Uninstalling simpletransformers-0.63.6:\n",
      "      Successfully uninstalled simpletransformers-0.63.6\n",
      "Successfully installed simpletransformers-0.28.2 tensorboardx-2.5\n"
     ]
    }
   ],
   "source": [
    "!pip install simpletransformers==0.28.2"
   ]
  },
  {
   "cell_type": "code",
   "execution_count": 50,
   "id": "f136e759",
   "metadata": {},
   "outputs": [
    {
     "ename": "ModuleNotFoundError",
     "evalue": "No module named 'transformers.modeling_albert'",
     "output_type": "error",
     "traceback": [
      "\u001b[1;31m---------------------------------------------------------------------------\u001b[0m",
      "\u001b[1;31mModuleNotFoundError\u001b[0m                       Traceback (most recent call last)",
      "Input \u001b[1;32mIn [50]\u001b[0m, in \u001b[0;36m<cell line: 1>\u001b[1;34m()\u001b[0m\n\u001b[1;32m----> 1\u001b[0m \u001b[38;5;28;01mfrom\u001b[39;00m \u001b[38;5;21;01msimpletransformers\u001b[39;00m\u001b[38;5;21;01m.\u001b[39;00m\u001b[38;5;21;01mclassification\u001b[39;00m \u001b[38;5;28;01mimport\u001b[39;00m ClassificationModel\n\u001b[0;32m      3\u001b[0m \u001b[38;5;66;03m# define hyperparameter\u001b[39;00m\n\u001b[0;32m      4\u001b[0m train_args \u001b[38;5;241m=\u001b[39m{\u001b[38;5;124m\"\u001b[39m\u001b[38;5;124mreprocess_input_data\u001b[39m\u001b[38;5;124m\"\u001b[39m: \u001b[38;5;28;01mTrue\u001b[39;00m,\n\u001b[0;32m      5\u001b[0m              \u001b[38;5;124m\"\u001b[39m\u001b[38;5;124moverwrite_output_dir\u001b[39m\u001b[38;5;124m\"\u001b[39m: \u001b[38;5;28;01mTrue\u001b[39;00m,\n\u001b[0;32m      6\u001b[0m              \u001b[38;5;124m\"\u001b[39m\u001b[38;5;124mfp16\u001b[39m\u001b[38;5;124m\"\u001b[39m:\u001b[38;5;28;01mFalse\u001b[39;00m,\n\u001b[0;32m      7\u001b[0m              \u001b[38;5;124m\"\u001b[39m\u001b[38;5;124mnum_train_epochs\u001b[39m\u001b[38;5;124m\"\u001b[39m: \u001b[38;5;241m4\u001b[39m}\n",
      "File \u001b[1;32m~\\AppData\\Local\\Programs\\Python\\Python310\\lib\\site-packages\\simpletransformers\\classification\\__init__.py:1\u001b[0m, in \u001b[0;36m<module>\u001b[1;34m\u001b[0m\n\u001b[1;32m----> 1\u001b[0m \u001b[38;5;28;01mfrom\u001b[39;00m \u001b[38;5;21;01msimpletransformers\u001b[39;00m\u001b[38;5;21;01m.\u001b[39;00m\u001b[38;5;21;01mclassification\u001b[39;00m\u001b[38;5;21;01m.\u001b[39;00m\u001b[38;5;21;01mclassification_model\u001b[39;00m \u001b[38;5;28;01mimport\u001b[39;00m ClassificationModel\n\u001b[0;32m      2\u001b[0m \u001b[38;5;28;01mfrom\u001b[39;00m \u001b[38;5;21;01msimpletransformers\u001b[39;00m\u001b[38;5;21;01m.\u001b[39;00m\u001b[38;5;21;01mclassification\u001b[39;00m\u001b[38;5;21;01m.\u001b[39;00m\u001b[38;5;21;01mmulti_label_classification_model\u001b[39;00m \u001b[38;5;28;01mimport\u001b[39;00m (\n\u001b[0;32m      3\u001b[0m     MultiLabelClassificationModel,\n\u001b[0;32m      4\u001b[0m )\n\u001b[0;32m      5\u001b[0m \u001b[38;5;28;01mfrom\u001b[39;00m \u001b[38;5;21;01msimpletransformers\u001b[39;00m\u001b[38;5;21;01m.\u001b[39;00m\u001b[38;5;21;01mclassification\u001b[39;00m\u001b[38;5;21;01m.\u001b[39;00m\u001b[38;5;21;01mmulti_modal_classification_model\u001b[39;00m \u001b[38;5;28;01mimport\u001b[39;00m (\n\u001b[0;32m      6\u001b[0m     MultiModalClassificationModel,\n\u001b[0;32m      7\u001b[0m )\n",
      "File \u001b[1;32m~\\AppData\\Local\\Programs\\Python\\Python310\\lib\\site-packages\\simpletransformers\\classification\\classification_model.py:28\u001b[0m, in \u001b[0;36m<module>\u001b[1;34m\u001b[0m\n\u001b[0;32m     21\u001b[0m \u001b[38;5;28;01mfrom\u001b[39;00m \u001b[38;5;21;01mscipy\u001b[39;00m\u001b[38;5;21;01m.\u001b[39;00m\u001b[38;5;21;01mstats\u001b[39;00m \u001b[38;5;28;01mimport\u001b[39;00m mode, pearsonr\n\u001b[0;32m     22\u001b[0m \u001b[38;5;28;01mfrom\u001b[39;00m \u001b[38;5;21;01mscipy\u001b[39;00m\u001b[38;5;21;01m.\u001b[39;00m\u001b[38;5;21;01mspecial\u001b[39;00m \u001b[38;5;28;01mimport\u001b[39;00m softmax\n\u001b[0;32m     23\u001b[0m \u001b[38;5;28;01mfrom\u001b[39;00m \u001b[38;5;21;01msklearn\u001b[39;00m\u001b[38;5;21;01m.\u001b[39;00m\u001b[38;5;21;01mmetrics\u001b[39;00m \u001b[38;5;28;01mimport\u001b[39;00m (\n\u001b[0;32m     24\u001b[0m     confusion_matrix,\n\u001b[0;32m     25\u001b[0m     label_ranking_average_precision_score,\n\u001b[0;32m     26\u001b[0m     matthews_corrcoef,\n\u001b[0;32m     27\u001b[0m     mean_squared_error,\n\u001b[1;32m---> 28\u001b[0m     roc_curve,\n\u001b[0;32m     29\u001b[0m     auc,\n\u001b[0;32m     30\u001b[0m     average_precision_score,\n\u001b[0;32m     31\u001b[0m )\n\u001b[0;32m     32\u001b[0m \u001b[38;5;28;01mfrom\u001b[39;00m \u001b[38;5;21;01mtorch\u001b[39;00m\u001b[38;5;21;01m.\u001b[39;00m\u001b[38;5;21;01mutils\u001b[39;00m\u001b[38;5;21;01m.\u001b[39;00m\u001b[38;5;21;01mtensorboard\u001b[39;00m \u001b[38;5;28;01mimport\u001b[39;00m SummaryWriter\n\u001b[0;32m     33\u001b[0m \u001b[38;5;28;01mfrom\u001b[39;00m \u001b[38;5;21;01mtorch\u001b[39;00m\u001b[38;5;21;01m.\u001b[39;00m\u001b[38;5;21;01mnn\u001b[39;00m \u001b[38;5;28;01mimport\u001b[39;00m CrossEntropyLoss\n",
      "File \u001b[1;32m~\\AppData\\Local\\Programs\\Python\\Python310\\lib\\site-packages\\simpletransformers\\classification\\transformer_models\\albert_model.py:4\u001b[0m, in \u001b[0;36m<module>\u001b[1;34m\u001b[0m\n\u001b[0;32m      2\u001b[0m \u001b[38;5;28;01mimport\u001b[39;00m \u001b[38;5;21;01mtorch\u001b[39;00m\u001b[38;5;21;01m.\u001b[39;00m\u001b[38;5;21;01mnn\u001b[39;00m \u001b[38;5;28;01mas\u001b[39;00m \u001b[38;5;21;01mnn\u001b[39;00m\n\u001b[0;32m      3\u001b[0m \u001b[38;5;28;01mfrom\u001b[39;00m \u001b[38;5;21;01mtorch\u001b[39;00m\u001b[38;5;21;01m.\u001b[39;00m\u001b[38;5;21;01mnn\u001b[39;00m \u001b[38;5;28;01mimport\u001b[39;00m CrossEntropyLoss, MSELoss\n\u001b[1;32m----> 4\u001b[0m \u001b[38;5;28;01mfrom\u001b[39;00m \u001b[38;5;21;01mtransformers\u001b[39;00m\u001b[38;5;21;01m.\u001b[39;00m\u001b[38;5;21;01mmodeling_albert\u001b[39;00m \u001b[38;5;28;01mimport\u001b[39;00m AlbertConfig, AlbertModel, AlbertPreTrainedModel\n\u001b[0;32m      7\u001b[0m \u001b[38;5;28;01mclass\u001b[39;00m \u001b[38;5;21;01mAlbertForSequenceClassification\u001b[39;00m(AlbertPreTrainedModel):\n\u001b[0;32m      8\u001b[0m     \u001b[38;5;124;03m\"\"\"\u001b[39;00m\n\u001b[0;32m      9\u001b[0m \u001b[38;5;124;03m        **labels**: (`optional`) ``torch.LongTensor`` of shape ``(batch_size,)``:\u001b[39;00m\n\u001b[0;32m     10\u001b[0m \u001b[38;5;124;03m            Labels for computing the sequence classification/regression loss.\u001b[39;00m\n\u001b[1;32m   (...)\u001b[0m\n\u001b[0;32m     32\u001b[0m \u001b[38;5;124;03m        loss, logits = outputs[:2]\u001b[39;00m\n\u001b[0;32m     33\u001b[0m \u001b[38;5;124;03m    \"\"\"\u001b[39;00m  \u001b[38;5;66;03m# noqa: ignore flake8\"\u001b[39;00m\n",
      "\u001b[1;31mModuleNotFoundError\u001b[0m: No module named 'transformers.modeling_albert'"
     ]
    }
   ],
   "source": [
    "from simpletransformers.classification import ClassificationModel\n",
    "\n",
    "# define hyperparameter\n",
    "train_args ={\"reprocess_input_data\": True,\n",
    "             \"overwrite_output_dir\": True,\n",
    "             \"fp16\":False,\n",
    "             \"num_train_epochs\": 4}\n",
    "\n",
    "# Create a ClassificationModel\n",
    "model = ClassificationModel(\n",
    "    \"bert\", \"distilbert-base-multilingual-cased\",\n",
    "    num_labels=2,\n",
    "    args=train_args\n",
    ")"
   ]
  }
 ],
 "metadata": {
  "kernelspec": {
   "display_name": "Python 3 (ipykernel)",
   "language": "python",
   "name": "python3"
  },
  "language_info": {
   "codemirror_mode": {
    "name": "ipython",
    "version": 3
   },
   "file_extension": ".py",
   "mimetype": "text/x-python",
   "name": "python",
   "nbconvert_exporter": "python",
   "pygments_lexer": "ipython3",
   "version": "3.10.4"
  }
 },
 "nbformat": 4,
 "nbformat_minor": 5
}
