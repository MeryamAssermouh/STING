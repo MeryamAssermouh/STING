{
 "cells": [
  {
   "cell_type": "markdown",
   "id": "7c4c3fb3",
   "metadata": {},
   "source": [
    "#                                    Analyse de la base de données des mails"
   ]
  },
  {
   "cell_type": "markdown",
   "id": "4f3aed01",
   "metadata": {},
   "source": [
    "##  Load Data"
   ]
  },
  {
   "cell_type": "code",
   "execution_count": 2,
   "id": "a2765e49",
   "metadata": {},
   "outputs": [],
   "source": [
    "import warnings\n",
    "warnings.filterwarnings(\"ignore\")"
   ]
  },
  {
   "cell_type": "code",
   "execution_count": 3,
   "id": "367d35e6",
   "metadata": {},
   "outputs": [],
   "source": [
    "import pandas as pd\n",
    "import numpy as np\n",
    "import sklearn"
   ]
  },
  {
   "cell_type": "code",
   "execution_count": 4,
   "id": "fe251fe5",
   "metadata": {},
   "outputs": [],
   "source": [
    "#Defining variables\n",
    "file_name = \"./Documents/Priorisation de mails/n16_juin_juillet2022.xlsx\"\n",
    "start_month = 6\n",
    "end_month = 7"
   ]
  },
  {
   "cell_type": "code",
   "execution_count": 7,
   "id": "eebb4676",
   "metadata": {},
   "outputs": [],
   "source": [
    "\n",
    "xl_file = pd.ExcelFile(file_name, engine='openpyxl', )\n",
    "df = xl_file.parse('Sheet1')\n",
    "df = df[df['Date_Sent'].dt.month <= end_month] \n",
    "df = df[df['Date_Sent'].dt.month >= start_month] "
   ]
  },
  {
   "cell_type": "code",
   "execution_count": 8,
   "id": "c2b6c01d",
   "metadata": {},
   "outputs": [
    {
     "data": {
      "text/plain": [
       "37"
      ]
     },
     "execution_count": 8,
     "metadata": {},
     "output_type": "execute_result"
    }
   ],
   "source": [
    "len(df)"
   ]
  },
  {
   "cell_type": "code",
   "execution_count": 183,
   "id": "e73af319",
   "metadata": {},
   "outputs": [],
   "source": [
    "# df.info()"
   ]
  },
  {
   "cell_type": "markdown",
   "id": "60a4f2ef",
   "metadata": {},
   "source": [
    "# Analyse Data"
   ]
  },
  {
   "cell_type": "markdown",
   "id": "77f7e668",
   "metadata": {},
   "source": [
    "## 1 - Informations générales :"
   ]
  },
  {
   "cell_type": "code",
   "execution_count": 12,
   "id": "70aa08db",
   "metadata": {},
   "outputs": [
    {
     "name": "stdout",
     "output_type": "stream",
     "text": [
      "nombez de mails envoyés par IDEA :  5\n",
      "nombre de mails envoyé par les autres expéditeurs :  32\n"
     ]
    }
   ],
   "source": [
    "## envoyé par IDEA\n",
    "\n",
    "s = 'groupe-idea'\n",
    "s = s.lower()\n",
    "\n",
    "S = 0\n",
    "for element in df['From (address)'] :\n",
    "    a = str(element).lower()\n",
    "    if s in a:\n",
    "        S = S+1\n",
    "print(\"nombez de mails envoyés par IDEA : \",S)\n",
    "print(\"nombre de mails envoyé par les autres expéditeurs : \", len(df)-S)"
   ]
  },
  {
   "cell_type": "code",
   "execution_count": 13,
   "id": "d34d51e8",
   "metadata": {
    "scrolled": false
   },
   "outputs": [
    {
     "data": {
      "image/png": "[encoded data removed]",
      "text/plain": [
       "<Figure size 720x360 with 1 Axes>"
      ]
     },
     "metadata": {},
     "output_type": "display_data"
    }
   ],
   "source": [
    "%matplotlib inline\n",
    "import matplotlib\n",
    "import matplotlib.pyplot as plt\n",
    "\n",
    "plt.figure(1, figsize=(10,5))\n",
    "plt.title(\"mails de la base n16\", fontsize = 15)\n",
    "plt.pie([S,len(df)-S], labels=['envoyés','reçus'],autopct='%1.2f%%',textprops={'fontsize': 10})\n",
    "#plt.legend()\n",
    "plt.show()\n",
    "\n",
    "# plt.savefig('Pictures\\\\fig1111.png', dpi='figure', format='png')"
   ]
  },
  {
   "cell_type": "code",
   "execution_count": 14,
   "id": "8a0b4381",
   "metadata": {},
   "outputs": [
    {
     "data": {
      "text/plain": [
       "<Figure size 720x360 with 0 Axes>"
      ]
     },
     "metadata": {},
     "output_type": "display_data"
    },
    {
     "data": {
      "image/png": "[encoded data removed]",
      "text/plain": [
       "<Figure size 432x288 with 1 Axes>"
      ]
     },
     "metadata": {
      "needs_background": "light"
     },
     "output_type": "display_data"
    }
   ],
   "source": [
    "\n",
    "u = 're'\n",
    "v = ['fw','fwd','tr']\n",
    "\n",
    "\n",
    "direct = 0\n",
    "re = 0\n",
    "fw = 0\n",
    "\n",
    "for i, row in df.iterrows():  \n",
    "    element = row['Subject']\n",
    "    if str(element).lower().startswith(u) : \n",
    "        df.loc[i,'type'] = 're'\n",
    "        re = re + 1\n",
    "    elif list(filter(str(element).lower().startswith, v)) != [] :\n",
    "        fw = fw+1\n",
    "        df.loc[i,'type'] = 'fwd'\n",
    "    else :\n",
    "        direct = direct + 1\n",
    "        df.loc[i,'type'] = 'direct'\n",
    "\n",
    "plt.figure(1, figsize=(10,5))\n",
    "fig, ax = plt.subplots()\n",
    "# plt.bar(list(set(df['type'].to_list())),rec_df['type'].value_counts().to_list())\n",
    "plt.bar(['direct','réponse','forward'],[direct,re,fw])\n",
    "plt.title(\"répartition des mails par type\",fontsize = 15)\n",
    "ax.get_yaxis().set_major_formatter(\n",
    "matplotlib.ticker.FuncFormatter(lambda x, p: format(int(x), ',')))\n",
    "plt.show()"
   ]
  },
  {
   "cell_type": "code",
   "execution_count": null,
   "id": "d976ec55",
   "metadata": {},
   "outputs": [],
   "source": []
  },
  {
   "cell_type": "markdown",
   "id": "70111b21",
   "metadata": {},
   "source": [
    "## 2 - Nombre de mails envoyés par les entreprises "
   ]
  },
  {
   "cell_type": "code",
   "execution_count": 17,
   "id": "6789f56d",
   "metadata": {},
   "outputs": [
    {
     "name": "stdout",
     "output_type": "stream",
     "text": [
      "32\n"
     ]
    }
   ],
   "source": [
    "## Autres expéditeurs\n",
    "\n",
    "#others_unique = [x for x in df['From (address)'].unique() if not (str(x).lower()).startswith(s)]\n",
    "others = [x for x in df['From (address)'] if not (s in x)]\n",
    "print(len(others))\n",
    "# print(\"nombre d'expéditeurs : \",len(others_unique))\n",
    "# others_unique"
   ]
  },
  {
   "cell_type": "code",
   "execution_count": 18,
   "id": "7cdc7ebd",
   "metadata": {},
   "outputs": [],
   "source": [
    "## Entreprises expéditrices autre qu'IDEA\n",
    "\n",
    "ent=[]\n",
    "char1 = '@'\n",
    "char2 = '.'\n",
    "for element in others :\n",
    "    ent.append(str(element)[str(element).find(char1)+1 : str(element).rfind(char2)])\n",
    "\n",
    "\n",
    "while 'na' in ent :\n",
    "    ent.remove('na')\n",
    "    \n",
    "ent_unique=list(set(ent))\n",
    "\n",
    "# print(len(ent))\n",
    "# print(\"nombre d'entreprises : \",len(ent_unique))\n",
    "# print('liste des entreprise expéditrices : ')\n",
    "# ent_unique\n",
    "    "
   ]
  },
  {
   "cell_type": "code",
   "execution_count": 19,
   "id": "3abde01f",
   "metadata": {},
   "outputs": [],
   "source": [
    "counts = []\n",
    "for element in ent_unique : \n",
    "#     print('nombre de mail envoyé par ',element,' : ',ent.count(element))\n",
    "    counts.append(ent.count(element))"
   ]
  },
  {
   "cell_type": "code",
   "execution_count": 20,
   "id": "a82730d7",
   "metadata": {},
   "outputs": [
    {
     "data": {
      "text/html": [
       "<div>\n",
       "<style scoped>\n",
       "    .dataframe tbody tr th:only-of-type {\n",
       "        vertical-align: middle;\n",
       "    }\n",
       "\n",
       "    .dataframe tbody tr th {\n",
       "        vertical-align: top;\n",
       "    }\n",
       "\n",
       "    .dataframe thead th {\n",
       "        text-align: right;\n",
       "    }\n",
       "</style>\n",
       "<table border=\"1\" class=\"dataframe\">\n",
       "  <thead>\n",
       "    <tr style=\"text-align: right;\">\n",
       "      <th></th>\n",
       "      <th>entreprise</th>\n",
       "      <th>nombre de mails</th>\n",
       "    </tr>\n",
       "  </thead>\n",
       "  <tbody>\n",
       "    <tr>\n",
       "      <th>0</th>\n",
       "      <td>airbus</td>\n",
       "      <td>21</td>\n",
       "    </tr>\n",
       "    <tr>\n",
       "      <th>1</th>\n",
       "      <td>dhl</td>\n",
       "      <td>9</td>\n",
       "    </tr>\n",
       "    <tr>\n",
       "      <th>2</th>\n",
       "      <td>mecachromegroup</td>\n",
       "      <td>1</td>\n",
       "    </tr>\n",
       "    <tr>\n",
       "      <th>3</th>\n",
       "      <td>heppner-group</td>\n",
       "      <td>1</td>\n",
       "    </tr>\n",
       "  </tbody>\n",
       "</table>\n",
       "</div>"
      ],
      "text/plain": [
       "        entreprise  nombre de mails\n",
       "0           airbus               21\n",
       "1              dhl                9\n",
       "2  mecachromegroup                1\n",
       "3    heppner-group                1"
      ]
     },
     "execution_count": 20,
     "metadata": {},
     "output_type": "execute_result"
    }
   ],
   "source": [
    "\n",
    "data = {'entreprise':ent_unique,'nombre de mails':counts}\n",
    "nb_mails = pd.DataFrame(data)\n",
    "nb_mails.sort_values(by=['nombre de mails'],ascending=False,ignore_index=True)\n",
    "\n",
    "# for i in range(len(nb_mails[\"nombre de mails\"])):\n",
    "#     nb_mails[\"nombre de mails\"][i] = \"{:,}\".format(nb_mails[\"nombre de mails\"][i]).replace(',', ' ')\n",
    "    \n",
    "# nb_mails"
   ]
  },
  {
   "cell_type": "code",
   "execution_count": 21,
   "id": "985122ab",
   "metadata": {},
   "outputs": [
    {
     "name": "stdout",
     "output_type": "stream",
     "text": [
      "4\n"
     ]
    },
    {
     "data": {
      "text/html": [
       "<div>\n",
       "<style scoped>\n",
       "    .dataframe tbody tr th:only-of-type {\n",
       "        vertical-align: middle;\n",
       "    }\n",
       "\n",
       "    .dataframe tbody tr th {\n",
       "        vertical-align: top;\n",
       "    }\n",
       "\n",
       "    .dataframe thead th {\n",
       "        text-align: right;\n",
       "    }\n",
       "</style>\n",
       "<table border=\"1\" class=\"dataframe\">\n",
       "  <thead>\n",
       "    <tr style=\"text-align: right;\">\n",
       "      <th></th>\n",
       "      <th>entreprise</th>\n",
       "      <th>nombre de mails</th>\n",
       "    </tr>\n",
       "  </thead>\n",
       "  <tbody>\n",
       "    <tr>\n",
       "      <th>0</th>\n",
       "      <td>airbus</td>\n",
       "      <td>21</td>\n",
       "    </tr>\n",
       "    <tr>\n",
       "      <th>1</th>\n",
       "      <td>other</td>\n",
       "      <td>11</td>\n",
       "    </tr>\n",
       "  </tbody>\n",
       "</table>\n",
       "</div>"
      ],
      "text/plain": [
       "  entreprise  nombre de mails\n",
       "0     airbus               21\n",
       "1      other               11"
      ]
     },
     "execution_count": 21,
     "metadata": {},
     "output_type": "execute_result"
    }
   ],
   "source": [
    "x = 0\n",
    "nb_mails1 = nb_mails\n",
    "\n",
    "oth = []\n",
    "\n",
    "print(len(nb_mails))\n",
    "for i in range(len(nb_mails)):\n",
    "    \n",
    "    if nb_mails.iloc[i]['nombre de mails']<10:\n",
    "        \n",
    "        x = x + nb_mails.iloc[i]['nombre de mails']\n",
    "        \n",
    "        oth.append(nb_mails.iloc[i]['entreprise'])\n",
    "        nb_mails1 = nb_mails1.drop([i])\n",
    "        \n",
    "nb_mails1 = nb_mails1.append({'entreprise': 'other',\n",
    "                         'nombre de mails': x}, ignore_index=True)\n",
    "\n",
    "nb_mails1.sort_values(by=['nombre de mails'],ascending=False,ignore_index=True)\n",
    "\n",
    "# for i in range(len(nb_mails1['nombre de mails'])):\n",
    "#     nb_mails1[\"nombre de mails\"][i] = \"{:,}\".format(nb_mails1[\"nombre de mails\"][i]).replace(',', ' ')\n",
    "    \n",
    "nb_mails1"
   ]
  },
  {
   "cell_type": "code",
   "execution_count": 150,
   "id": "6f9d0cc3",
   "metadata": {},
   "outputs": [
    {
     "data": {
      "image/png": "[encoded data removed]",
      "text/plain": [
       "<Figure size 432x288 with 1 Axes>"
      ]
     },
     "metadata": {},
     "output_type": "display_data"
    }
   ],
   "source": [
    "import matplotlib\n",
    "\n",
    "import matplotlib.pyplot as plt\n",
    "\n",
    "import seaborn as sns\n",
    "\n",
    "# plt.figure(figsize=(7,5))\n",
    "# make barplot and sort bars\n",
    "\n",
    "fig, ax = plt.subplots()\n",
    "# sns.set(font_scale=10)\n",
    "sns.barplot(x='entreprise',\n",
    "            y=\"nombre de mails\", \n",
    "            data=nb_mails1, \n",
    "            order=nb_mails1.sort_values('nombre de mails',ascending=False).entreprise)\n",
    "\n",
    "ax.get_yaxis().set_major_formatter(\n",
    "matplotlib.ticker.FuncFormatter(lambda x, p: format(int(x), ',')))\n",
    "\n",
    "plt.title(\"Nombre de mails envoyés par les entreprise\")\n",
    "plt.tight_layout()\n",
    "plt.show()\n",
    "#plt.savefig(\"sort_bars_in_barplot_ascending_order_Seaborn_Python.png\", dpi=100)"
   ]
  },
  {
   "cell_type": "markdown",
   "id": "77c74a4a",
   "metadata": {},
   "source": [
    "## 2bis - Nombre de mails envoyés par personne :"
   ]
  },
  {
   "cell_type": "code",
   "execution_count": 36,
   "id": "52135327",
   "metadata": {},
   "outputs": [],
   "source": [
    "## Entreprises expéditrices autre qu'IDEA (personnes)\n",
    "\n",
    "personnes=[]\n",
    "char = '@'\n",
    "\n",
    "for element in others :\n",
    "    personnes.append(str(element)[ : str(element).find(char)])\n",
    "\n",
    "\n",
    "# while 'na' in ent :\n",
    "#     ent.remove('na')\n",
    "\n",
    "personnes_unique=list(set(personnes))\n",
    "\n",
    "ent_per = []\n",
    "\n",
    "for personne in personnes:\n",
    "    for element in others :\n",
    "        if str(personne) in str(element):\n",
    "            ent_per.append(str(element)[str(element).find(char1)+1 : str(element).rfind(char2)])\n",
    "            break \n",
    "\n",
    "counts_per_month1 = []\n",
    "df_temp = df[df['Date Sent'].dt.month == start_month]\n",
    "for element in personnes_unique:\n",
    "    c = 0\n",
    "    for idx, row in df_temp.iterrows():\n",
    "        if str(element) in str(row['From (address)']):\n",
    "            c = c + 1\n",
    "    counts_per_month1.append(c)\n",
    "\n",
    "counts_per_month2 = []\n",
    "df_temp = df[df['Date Sent'].dt.month == start_month + 1]\n",
    "for element in personnes_unique:\n",
    "    c = 0\n",
    "    for idx, row in df_temp.iterrows():\n",
    "        if str(element) in str(row['From (address)']):\n",
    "            c = c + 1\n",
    "    counts_per_month2.append(c)\n",
    "\n",
    "counts_per_month3 = []\n",
    "df_temp = df[df['Date Sent'].dt.month == start_month + 2]\n",
    "for element in personnes_unique:\n",
    "    c = 0\n",
    "    for idx, row in df_temp.iterrows():\n",
    "        if str(element) in str(row['From (address)']):\n",
    "            c = c + 1\n",
    "    counts_per_month3.append(c)\n",
    "    \n",
    "\n",
    "prénoms = []\n",
    "for i in range(len(personnes_unique)):\n",
    "    \n",
    "    element = personnes_unique[i]\n",
    "    element = element.replace('.',' ')\n",
    "            \n",
    "    prénoms.append(element)\n",
    "\n",
    "\n",
    "\n",
    "# print(len(ent))\n",
    "# print(\"nombre d'entreprises : \",len(ent_unique))\n",
    "# print('liste des entreprise expéditrices : ')\n",
    "# ent_unique"
   ]
  },
  {
   "cell_type": "code",
   "execution_count": 37,
   "id": "df5acffa",
   "metadata": {},
   "outputs": [],
   "source": [
    "ent_per_unique = []\n",
    "\n",
    "for element in personnes_unique :\n",
    "    i = personnes.index(element)\n",
    "    ent_per_unique.append(ent_per[i])\n",
    "    "
   ]
  },
  {
   "cell_type": "code",
   "execution_count": 38,
   "id": "8f0bc4f3",
   "metadata": {},
   "outputs": [],
   "source": [
    "counts_personnes = []\n",
    "for element in personnes_unique : \n",
    "    #print('nombre de mail envoyé par ',element,' : ',personnes.count(element))\n",
    "    counts_personnes.append(personnes.count(element))"
   ]
  },
  {
   "cell_type": "code",
   "execution_count": 39,
   "id": "dfdb8443",
   "metadata": {},
   "outputs": [
    {
     "name": "stdout",
     "output_type": "stream",
     "text": [
      "top 5 senders :  ['via', 'gaetan guine external', 'isabelle joyau', 'vanessa drugeon', 'jean-charles le-queau']\n"
     ]
    },
    {
     "data": {
      "text/html": [
       "<div>\n",
       "<style scoped>\n",
       "    .dataframe tbody tr th:only-of-type {\n",
       "        vertical-align: middle;\n",
       "    }\n",
       "\n",
       "    .dataframe tbody tr th {\n",
       "        vertical-align: top;\n",
       "    }\n",
       "\n",
       "    .dataframe thead th {\n",
       "        text-align: right;\n",
       "    }\n",
       "</style>\n",
       "<table border=\"1\" class=\"dataframe\">\n",
       "  <thead>\n",
       "    <tr style=\"text-align: right;\">\n",
       "      <th></th>\n",
       "      <th>personne</th>\n",
       "      <th>entreprise</th>\n",
       "      <th>nombre de mails</th>\n",
       "      <th>mois 6</th>\n",
       "      <th>mois 7</th>\n",
       "      <th>mois 8</th>\n",
       "    </tr>\n",
       "  </thead>\n",
       "  <tbody>\n",
       "    <tr>\n",
       "      <th>0</th>\n",
       "      <td>via</td>\n",
       "      <td>kizeo</td>\n",
       "      <td>54</td>\n",
       "      <td>24</td>\n",
       "      <td>18</td>\n",
       "      <td>12</td>\n",
       "    </tr>\n",
       "    <tr>\n",
       "      <th>1</th>\n",
       "      <td>gaetan guine external</td>\n",
       "      <td>airbus</td>\n",
       "      <td>40</td>\n",
       "      <td>23</td>\n",
       "      <td>8</td>\n",
       "      <td>9</td>\n",
       "    </tr>\n",
       "    <tr>\n",
       "      <th>2</th>\n",
       "      <td>isabelle joyau</td>\n",
       "      <td>airbus</td>\n",
       "      <td>36</td>\n",
       "      <td>19</td>\n",
       "      <td>13</td>\n",
       "      <td>4</td>\n",
       "    </tr>\n",
       "    <tr>\n",
       "      <th>3</th>\n",
       "      <td>vanessa drugeon</td>\n",
       "      <td>airbus</td>\n",
       "      <td>26</td>\n",
       "      <td>14</td>\n",
       "      <td>4</td>\n",
       "      <td>8</td>\n",
       "    </tr>\n",
       "    <tr>\n",
       "      <th>4</th>\n",
       "      <td>jean-charles le-queau</td>\n",
       "      <td>airbus</td>\n",
       "      <td>19</td>\n",
       "      <td>6</td>\n",
       "      <td>10</td>\n",
       "      <td>3</td>\n",
       "    </tr>\n",
       "  </tbody>\n",
       "</table>\n",
       "</div>"
      ],
      "text/plain": [
       "                personne entreprise  nombre de mails  mois 6  mois 7  mois 8\n",
       "0                    via      kizeo               54      24      18      12\n",
       "1  gaetan guine external     airbus               40      23       8       9\n",
       "2         isabelle joyau     airbus               36      19      13       4\n",
       "3        vanessa drugeon     airbus               26      14       4       8\n",
       "4  jean-charles le-queau     airbus               19       6      10       3"
      ]
     },
     "execution_count": 39,
     "metadata": {},
     "output_type": "execute_result"
    }
   ],
   "source": [
    "data = {'personne':prénoms,'entreprise':ent_per_unique,'nombre de mails':counts_personnes, 'mois 6':counts_per_month1,'mois 7':counts_per_month2,'mois 8':counts_per_month3}\n",
    "top_senders = pd.DataFrame(data)\n",
    "top_senders = top_senders.sort_values(by='nombre de mails',ascending = False,ignore_index = True)\n",
    "\n",
    "print('top 5 senders : ',top_senders['personne'].to_list()[0:5])\n",
    "    \n",
    "top_senders.loc[:4,:]"
   ]
  },
  {
   "cell_type": "markdown",
   "id": "703c79bf",
   "metadata": {},
   "source": [
    "## 3 - Nombre de mails envoyés par Airbus internes vs externes :"
   ]
  },
  {
   "cell_type": "code",
   "execution_count": 40,
   "id": "002899dc",
   "metadata": {},
   "outputs": [
    {
     "name": "stdout",
     "output_type": "stream",
     "text": [
      "nombre d'externes :  139 (30%)\n",
      "nombre d'internes :  253 (70%)\n",
      "392\n"
     ]
    }
   ],
   "source": [
    "#Airbus : mails internes vs externes \n",
    "\n",
    "exter = 0\n",
    "inter = 0\n",
    " \n",
    "for element in others :\n",
    "    if \"@airbus.\" in str(element).lower() :\n",
    "        if \"external\" in str(element).lower():\n",
    "            exter = exter + 1\n",
    "        else :\n",
    "            inter = inter + 1\n",
    "    \n",
    "print(\"nombre d'externes : \", exter, \"(30%)\")\n",
    "print(\"nombre d'internes : \", inter,\"(70%)\")\n",
    "print(exter + inter)"
   ]
  },
  {
   "cell_type": "code",
   "execution_count": 42,
   "id": "45b30d5c",
   "metadata": {},
   "outputs": [
    {
     "data": {
      "image/png": "[encoded data removed]",
      "text/plain": [
       "<Figure size 720x360 with 1 Axes>"
      ]
     },
     "metadata": {},
     "output_type": "display_data"
    }
   ],
   "source": [
    "plt.figure(1, figsize=(10,5))\n",
    "plt.title(\"Airbus expéditeurs internes vs externes\",fontsize = 15)\n",
    "plt.pie([848,377], labels=['interne','externe'],autopct='%1.2f%%',textprops={'fontsize': 10})\n",
    "plt.show()"
   ]
  },
  {
   "cell_type": "markdown",
   "id": "394052ff",
   "metadata": {},
   "source": [
    "## 4 - Nombre de mails échangés par mois :"
   ]
  },
  {
   "cell_type": "code",
   "execution_count": 43,
   "id": "a1e71952",
   "metadata": {
    "scrolled": true
   },
   "outputs": [],
   "source": [
    "df1 = df[['Date Sent', 'From (address)','To (address)']]\n",
    "df2 = df1.groupby([df1['Date Sent'].dt.year.rename('year'), df1['Date Sent'].dt.month.rename('month')]).agg({'count'})\n",
    "df3 = df1.groupby([df1['Date Sent'].dt.year.rename('year'), df1['Date Sent'].dt.month.rename('month')])\n"
   ]
  },
  {
   "cell_type": "code",
   "execution_count": 44,
   "id": "1a2d67b0",
   "metadata": {},
   "outputs": [],
   "source": [
    "monthly_IDEA = []\n",
    "monthly_others = []\n",
    "\n",
    "for e in df3.groups.keys():\n",
    "    temp = df3.get_group(e)\n",
    "    S = 0\n",
    "    for element in temp['From (address)'] :\n",
    "        a = str(element).lower()\n",
    "        if a.startswith(s):\n",
    "            S = S+1\n",
    "    monthly_IDEA.append(S)\n",
    "    monthly_others.append(len(temp)-S)\n",
    "#monthly_IDEA"
   ]
  },
  {
   "cell_type": "code",
   "execution_count": 50,
   "id": "c2fc01e3",
   "metadata": {},
   "outputs": [
    {
     "data": {
      "image/png": "[encoded data removed]",
      "text/plain": [
       "<Figure size 504x360 with 1 Axes>"
      ]
     },
     "metadata": {
      "needs_background": "light"
     },
     "output_type": "display_data"
    }
   ],
   "source": [
    "months = list(range(start_month,end_month+1))\n",
    "X_axis = np.arange(len(months))\n",
    "plt.figure(1, figsize=(7,5))  \n",
    "plt.bar(X_axis - 0.2, monthly_IDEA, 0.4, label = 'envoyés')\n",
    "plt.bar(X_axis + 0.2, monthly_others, 0.4, label = 'reçus')\n",
    "  \n",
    "plt.xticks(X_axis, months)\n",
    "plt.xlabel(\"mois\")\n",
    "plt.ylabel(\"nombre de mails\")\n",
    "plt.title(\"nombre de mails échangés par mois\",fontsize = 15)\n",
    "plt.legend()\n",
    "plt.show()"
   ]
  },
  {
   "cell_type": "markdown",
   "id": "9c316930",
   "metadata": {},
   "source": [
    "## 5 - Nombre de mails envoyés par entreprise par mois :"
   ]
  },
  {
   "cell_type": "code",
   "execution_count": 51,
   "id": "cde0ded4",
   "metadata": {},
   "outputs": [],
   "source": [
    "#Analyse par mois des mails envoyés par IDEA\n",
    "\n",
    "monthly_envois = dict()\n",
    "for element in months :\n",
    "    monthly_envois[str(element)] = [0]*len(ent_unique)\n",
    "    \n",
    "#print(monthly_envois)\n",
    "for e in df3.groups.keys():\n",
    "    temp = df3.get_group(e)\n",
    "    #temp.info()\n",
    "    for f in temp['To (address)']:\n",
    "        for element in ent_unique : \n",
    "            if element in str(f).lower():\n",
    "                monthly_envois[str(e[1])][ent_unique.index(element)] = monthly_envois[str(e[1])][ent_unique.index(element)]+ 1\n",
    "    #print(monthly_envois)\n",
    "        "
   ]
  },
  {
   "cell_type": "code",
   "execution_count": 52,
   "id": "d738f916",
   "metadata": {},
   "outputs": [
    {
     "name": "stdout",
     "output_type": "stream",
     "text": [
      "  **mail envoyé par IDEA par entreprise par mois**\n"
     ]
    }
   ],
   "source": [
    "print(\"  **mail envoyé par IDEA par entreprise par mois**\")\n",
    "new1 = pd.DataFrame.from_dict(monthly_envois)\n",
    "new1.insert(0, \"entreprise\", ent_unique, True)\n",
    "\n"
   ]
  },
  {
   "cell_type": "code",
   "execution_count": null,
   "id": "15cf865b",
   "metadata": {},
   "outputs": [],
   "source": [
    "# df3.groups.keys()"
   ]
  },
  {
   "cell_type": "code",
   "execution_count": 53,
   "id": "1cb16fdf",
   "metadata": {},
   "outputs": [],
   "source": [
    "#monthly counts par entreprise \n",
    "\n",
    "keyList = [\"entreprise\"]\n",
    "for e in months :\n",
    "    keyList.append(str(e))\n",
    "\n",
    "d = {key: [] for key in keyList}\n",
    "\n",
    "for element in ent_unique :\n",
    "    d['entreprise'].append(element)\n",
    "    for e in df3.groups.keys():\n",
    "        temp = df3.get_group(e)\n",
    "        S = 0\n",
    "        t = [x for x in temp['From (address)'] if not (str(x).lower()).startswith(s)]\n",
    "        x = sum(element in str(s).lower() for s in t)\n",
    "        d[str(e[1])].append(x)\n",
    "        \n",
    "            "
   ]
  },
  {
   "cell_type": "code",
   "execution_count": 54,
   "id": "2d63871c",
   "metadata": {},
   "outputs": [
    {
     "data": {
      "text/html": [
       "<div>\n",
       "<style scoped>\n",
       "    .dataframe tbody tr th:only-of-type {\n",
       "        vertical-align: middle;\n",
       "    }\n",
       "\n",
       "    .dataframe tbody tr th {\n",
       "        vertical-align: top;\n",
       "    }\n",
       "\n",
       "    .dataframe thead th {\n",
       "        text-align: right;\n",
       "    }\n",
       "</style>\n",
       "<table border=\"1\" class=\"dataframe\">\n",
       "  <thead>\n",
       "    <tr style=\"text-align: right;\">\n",
       "      <th></th>\n",
       "      <th>entreprise</th>\n",
       "      <th>6</th>\n",
       "      <th>7</th>\n",
       "      <th>8</th>\n",
       "    </tr>\n",
       "  </thead>\n",
       "  <tbody>\n",
       "    <tr>\n",
       "      <th>0</th>\n",
       "      <td>stelia-aerospace</td>\n",
       "      <td>0</td>\n",
       "      <td>3</td>\n",
       "      <td>0</td>\n",
       "    </tr>\n",
       "    <tr>\n",
       "      <th>1</th>\n",
       "      <td>bollore</td>\n",
       "      <td>6</td>\n",
       "      <td>10</td>\n",
       "      <td>0</td>\n",
       "    </tr>\n",
       "    <tr>\n",
       "      <th>2</th>\n",
       "      <td>dhl</td>\n",
       "      <td>17</td>\n",
       "      <td>7</td>\n",
       "      <td>1</td>\n",
       "    </tr>\n",
       "    <tr>\n",
       "      <th>3</th>\n",
       "      <td>magellan</td>\n",
       "      <td>0</td>\n",
       "      <td>1</td>\n",
       "      <td>0</td>\n",
       "    </tr>\n",
       "    <tr>\n",
       "      <th>4</th>\n",
       "      <td>external.stelia-aerospace</td>\n",
       "      <td>0</td>\n",
       "      <td>1</td>\n",
       "      <td>0</td>\n",
       "    </tr>\n",
       "    <tr>\n",
       "      <th>5</th>\n",
       "      <td>daher</td>\n",
       "      <td>5</td>\n",
       "      <td>1</td>\n",
       "      <td>1</td>\n",
       "    </tr>\n",
       "    <tr>\n",
       "      <th>6</th>\n",
       "      <td>duqueine</td>\n",
       "      <td>1</td>\n",
       "      <td>0</td>\n",
       "      <td>0</td>\n",
       "    </tr>\n",
       "    <tr>\n",
       "      <th>7</th>\n",
       "      <td>nexteam-group</td>\n",
       "      <td>1</td>\n",
       "      <td>0</td>\n",
       "      <td>0</td>\n",
       "    </tr>\n",
       "    <tr>\n",
       "      <th>8</th>\n",
       "      <td>groupe-idea</td>\n",
       "      <td>0</td>\n",
       "      <td>1</td>\n",
       "      <td>0</td>\n",
       "    </tr>\n",
       "    <tr>\n",
       "      <th>9</th>\n",
       "      <td>trigo-group</td>\n",
       "      <td>1</td>\n",
       "      <td>3</td>\n",
       "      <td>1</td>\n",
       "    </tr>\n",
       "    <tr>\n",
       "      <th>10</th>\n",
       "      <td>gedmouv</td>\n",
       "      <td>8</td>\n",
       "      <td>8</td>\n",
       "      <td>2</td>\n",
       "    </tr>\n",
       "    <tr>\n",
       "      <th>11</th>\n",
       "      <td>airbus</td>\n",
       "      <td>203</td>\n",
       "      <td>114</td>\n",
       "      <td>75</td>\n",
       "    </tr>\n",
       "    <tr>\n",
       "      <th>12</th>\n",
       "      <td>atr-aircraft</td>\n",
       "      <td>0</td>\n",
       "      <td>2</td>\n",
       "      <td>0</td>\n",
       "    </tr>\n",
       "    <tr>\n",
       "      <th>13</th>\n",
       "      <td>kizeo</td>\n",
       "      <td>24</td>\n",
       "      <td>18</td>\n",
       "      <td>12</td>\n",
       "    </tr>\n",
       "  </tbody>\n",
       "</table>\n",
       "</div>"
      ],
      "text/plain": [
       "                   entreprise    6    7   8\n",
       "0            stelia-aerospace    0    3   0\n",
       "1                     bollore    6   10   0\n",
       "2                         dhl   17    7   1\n",
       "3                    magellan    0    1   0\n",
       "4   external.stelia-aerospace    0    1   0\n",
       "5                       daher    5    1   1\n",
       "6                    duqueine    1    0   0\n",
       "7               nexteam-group    1    0   0\n",
       "8                 groupe-idea    0    1   0\n",
       "9                 trigo-group    1    3   1\n",
       "10                    gedmouv    8    8   2\n",
       "11                     airbus  203  114  75\n",
       "12               atr-aircraft    0    2   0\n",
       "13                      kizeo   24   18  12"
      ]
     },
     "execution_count": 54,
     "metadata": {},
     "output_type": "execute_result"
    }
   ],
   "source": [
    "new = pd.DataFrame.from_dict(d)\n",
    "\n",
    " \n",
    "new.sort_values(by=['6'],ascending=True,ignore_index=True)\n",
    "new"
   ]
  },
  {
   "cell_type": "code",
   "execution_count": 55,
   "id": "2b9aa83c",
   "metadata": {},
   "outputs": [],
   "source": [
    "new3 = new.sum(axis=1).to_frame().join(new1.sum(axis=1).to_frame(), lsuffix='_reçus', rsuffix='_envoyés')\n",
    "new3.insert(0, \"entreprise\", ent_unique, True)\n",
    "# new3"
   ]
  },
  {
   "cell_type": "code",
   "execution_count": 163,
   "id": "9e0a5c31",
   "metadata": {},
   "outputs": [],
   "source": [
    "#new3.sum(axis=0)"
   ]
  },
  {
   "cell_type": "code",
   "execution_count": 39,
   "id": "63a20d46",
   "metadata": {},
   "outputs": [],
   "source": [
    "#df3 = df1.groupby([df1['Date Sent'].dt.year.rename('year'), df1['Date Sent'].dt.month.rename('month')]).agg({'count'})"
   ]
  },
  {
   "cell_type": "code",
   "execution_count": null,
   "id": "f09e625f",
   "metadata": {},
   "outputs": [],
   "source": [
    "# df1.info()"
   ]
  },
  {
   "cell_type": "code",
   "execution_count": null,
   "id": "62404ea9",
   "metadata": {},
   "outputs": [],
   "source": [
    "# df2['Date Sent']['count']"
   ]
  },
  {
   "cell_type": "code",
   "execution_count": null,
   "id": "5eab940b",
   "metadata": {},
   "outputs": [],
   "source": [
    "# plt.bar([2,3,4,5,6,7,8,9],df2['Date Sent']['count'])\n",
    "# plt.title(\"nombre de mails échangés par mois 2021\")\n",
    "# plt.show()"
   ]
  },
  {
   "cell_type": "code",
   "execution_count": null,
   "id": "b82ac317",
   "metadata": {},
   "outputs": [],
   "source": [
    "# plt.bar([2,3,4,5,6,7,8,9],monthly_IDEA)\n",
    "# plt.title(\"nombre de mails envoyés par mois 2021\")\n",
    "# plt.show()"
   ]
  },
  {
   "cell_type": "code",
   "execution_count": null,
   "id": "905ba550",
   "metadata": {},
   "outputs": [],
   "source": [
    "# months = [2,3,4,5,6,7,8,9]\n",
    "# plt.bar(months,monthly_others)\n",
    "# plt.title(\"nombre de mails reçus par mois 2021\")\n",
    "# plt.show()"
   ]
  },
  {
   "cell_type": "code",
   "execution_count": null,
   "id": "b8272c35",
   "metadata": {},
   "outputs": [],
   "source": [
    "# print(monthly_IDEA )\n",
    "# print(monthly_others)\n",
    "# print(df2['Date Sent']['count'])"
   ]
  },
  {
   "cell_type": "code",
   "execution_count": null,
   "id": "678ed558",
   "metadata": {},
   "outputs": [],
   "source": [
    "# print(\"nombre de mail directs : \", direct)\n",
    "# print(\"nombre de réponses : \",re)\n",
    "# print(\"nombre de forward : \",fw)\n",
    "# direct  + re + fw"
   ]
  },
  {
   "cell_type": "markdown",
   "id": "eb24d304",
   "metadata": {},
   "source": [
    "## Nombre de destinataires par mail :"
   ]
  },
  {
   "cell_type": "code",
   "execution_count": 56,
   "id": "720b1629",
   "metadata": {},
   "outputs": [],
   "source": [
    "def replace_substring(string, substr, new):\n",
    "    \n",
    "    i = 0\n",
    "    while i < len(string) - len(substr) + 1:\n",
    "        # Check if substring starts at i\n",
    "        #print(string[i:i+len(substr)])\n",
    "        if string[i:i+len(substr)] == substr:\n",
    "            v = string[:i]+new+string[i+len(substr):]\n",
    "            string = v\n",
    "            break   \n",
    "        i += 1\n",
    "    \n",
    "    return string"
   ]
  },
  {
   "cell_type": "code",
   "execution_count": 57,
   "id": "e5dfe60b",
   "metadata": {},
   "outputs": [],
   "source": [
    "df_new = df\n",
    "nb_destinataires = []\n",
    "c=[]\n",
    "b=[]\n",
    "\n",
    "for element in df_new['To (address)'] :\n",
    "    w = str(element).lower()\n",
    "    w = replace_substring(w, s, '@IDEA')\n",
    "    #print(w.count('@'))\n",
    "    nb_destinataires.append(w.count('@'))\n",
    "#nb_destinataires =list(set(nb_destinataires))\n",
    "for x in list(set(nb_destinataires)):\n",
    "    b.append(x)\n",
    "    c.append(nb_destinataires.count(x))\n",
    "    #print('nombre de mails avec ',x,'destinataire : ',nb_destinataires.count(x))\n",
    "#plt.hist(nb_destinataires)\n",
    "\n"
   ]
  },
  {
   "cell_type": "code",
   "execution_count": 167,
   "id": "e11cb7f7",
   "metadata": {},
   "outputs": [],
   "source": [
    "# fig, ax = plt.subplots()\n",
    "# plt.bar(b,c)\n",
    "# plt.xlabel('nombre de destinataires')\n",
    "# plt.ylabel('nombre de mails')\n",
    "# plt.title('nombre de mails ayant x nombre de destinataires')\n",
    "# ax.get_yaxis().set_major_formatter(\n",
    "# matplotlib.ticker.FuncFormatter(lambda x, p: format(int(x), ',')))\n",
    "# plt.show()"
   ]
  },
  {
   "cell_type": "code",
   "execution_count": 167,
   "id": "ba4958f1",
   "metadata": {},
   "outputs": [],
   "source": [
    "matplotlib.rcParams.update(matplotlib.rcParamsDefault)"
   ]
  },
  {
   "cell_type": "code",
   "execution_count": 168,
   "id": "0de38f6c",
   "metadata": {
    "scrolled": false
   },
   "outputs": [
    {
     "data": {
      "image/png": "[encoded data removed]",
      "text/plain": [
       "<Figure size 700x500 with 1 Axes>"
      ]
     },
     "metadata": {},
     "output_type": "display_data"
    }
   ],
   "source": [
    "plt.figure(1, figsize=(7,5)) \n",
    "\n",
    "#fig, ax = plt.subplots()\n",
    "plt.scatter(b,c,color='b')\n",
    "plt.xlabel('nombre de destinataires')\n",
    "plt.ylabel('nombre de mails')\n",
    "plt.title('nombre de mails ayant x nombre de destinataires',fontsize = 15)\n",
    "ax.get_yaxis().set_major_formatter(\n",
    "matplotlib.ticker.FuncFormatter(lambda x, p: format(int(x), ',')))\n",
    "plt.show()"
   ]
  },
  {
   "cell_type": "code",
   "execution_count": 65,
   "id": "e9c07a86",
   "metadata": {},
   "outputs": [],
   "source": [
    "#Dayaframe des mails envoyés\n",
    "\n",
    "env_df = df\n",
    "env_df['From (address)'] = env_df['From (address)'].replace('-', np.nan)\n",
    "env_df = env_df.dropna(axis=0, subset=['From (address)'])\n",
    "\n",
    "env_df = env_df[env_df['From (address)'].str.lower().str.contains(s)] "
   ]
  },
  {
   "cell_type": "code",
   "execution_count": 66,
   "id": "76f97268",
   "metadata": {},
   "outputs": [
    {
     "data": {
      "text/plain": [
       "499"
      ]
     },
     "execution_count": 66,
     "metadata": {},
     "output_type": "execute_result"
    }
   ],
   "source": [
    "len(env_df)"
   ]
  },
  {
   "cell_type": "code",
   "execution_count": 67,
   "id": "1b32807c",
   "metadata": {},
   "outputs": [],
   "source": [
    "rec_df = df \n",
    "rec_df['From (address)'] = rec_df['From (address)'].replace('-', np.nan)\n",
    "rec_df = rec_df.merge(env_df, how=\"left\", left_on=df.columns.values.tolist(), right_on=df.columns.values.tolist(), indicator=True)\n",
    "rec_df = rec_df.query(\"_merge == 'left_only'\")[df.columns.values.tolist()]"
   ]
  },
  {
   "cell_type": "markdown",
   "id": "2147af72",
   "metadata": {},
   "source": [
    "## Nature des mails : question, alerte de risque, simple information"
   ]
  },
  {
   "cell_type": "code",
   "execution_count": 68,
   "id": "e0150c16",
   "metadata": {},
   "outputs": [],
   "source": [
    "#question : point d'interrogation, vocabulaire (demande..)\n",
    "#alerte de risque : point d'exclamation, vocabulaire (risque, urgent, litige)\n",
    "#simple information : le reste\n",
    "\n",
    "vocab_risque = [\"risque\",\"urgent\",\"litige\"]\n",
    "\n",
    "nature = []\n",
    "\n",
    "for idx, row in rec_df.iterrows():\n",
    "    #question\n",
    "    if len(set(['re','re:','réponse'])&set(str(row['Subject']).lower().split())) == 0:\n",
    "        if  len(set(['?','demande','svp','pouvez-vous'])&(set(str(row['Body']).lower().split())|set(str(row['Subject']).lower().split()))) != 0:\n",
    "            nature.append(\"question\")\n",
    "        elif len(set(vocab_risque)&(set(str(row['Body']).lower().split())|set(str(row['Subject']).lower().split()))) != 0:\n",
    "            nature.append(\"alerte de risque\")\n",
    "        else :\n",
    "            nature.append(\"simple information\")\n",
    "    \n",
    "    else :\n",
    "        nature.append(\"simple information\")\n",
    "        \n",
    "            \n",
    "                                 "
   ]
  },
  {
   "cell_type": "code",
   "execution_count": 69,
   "id": "6c542783",
   "metadata": {
    "scrolled": true
   },
   "outputs": [],
   "source": [
    "rec_df = rec_df.assign(nature = nature)\n",
    "# rec_df"
   ]
  },
  {
   "cell_type": "code",
   "execution_count": 101,
   "id": "090b4075",
   "metadata": {
    "scrolled": true
   },
   "outputs": [],
   "source": [
    "# rec_df['nature'].value_counts().to_list()"
   ]
  },
  {
   "cell_type": "code",
   "execution_count": 123,
   "id": "1983bb5a",
   "metadata": {
    "scrolled": true
   },
   "outputs": [
    {
     "name": "stdout",
     "output_type": "stream",
     "text": [
      "[444, 80, 6]\n"
     ]
    }
   ],
   "source": [
    "#print([nature.count('simple information'),nature.count('question'),nature.count('alerte de risque')])"
   ]
  },
  {
   "cell_type": "code",
   "execution_count": 72,
   "id": "848addf1",
   "metadata": {
    "scrolled": true
   },
   "outputs": [
    {
     "data": {
      "image/png": "[encoded data removed]",
      "text/plain": [
       "<Figure size 504x360 with 1 Axes>"
      ]
     },
     "metadata": {
      "needs_background": "light"
     },
     "output_type": "display_data"
    }
   ],
   "source": [
    "plt.figure(1, figsize=(7,5)) \n",
    "\n",
    "#fig, ax = plt.subplots()\n",
    "plt.bar(['simple information','question','alerte de risque'], [nature.count('simple information'),nature.count('question'),nature.count('alerte de risque')])\n",
    "plt.title(\"répartition des mails par nature\",fontsize = 15)\n",
    "ax.get_yaxis().set_major_formatter(\n",
    "matplotlib.ticker.FuncFormatter(lambda x, p: format(int(x), ',')))\n",
    "plt.show()"
   ]
  },
  {
   "cell_type": "code",
   "execution_count": 74,
   "id": "4ab1d698",
   "metadata": {},
   "outputs": [
    {
     "data": {
      "image/png": "[encoded data removed]",
      "text/plain": [
       "<Figure size 720x360 with 1 Axes>"
      ]
     },
     "metadata": {},
     "output_type": "display_data"
    }
   ],
   "source": [
    "plt.figure(1, figsize=(10,5))\n",
    "plt.title(\"Répartition de mails par nature\",fontsize = 15)\n",
    "plt.pie([nature.count('simple information'),nature.count('question'),nature.count('alerte de risque')], labels=['simple information','question','alerte de risque'],autopct='%1.2f%%',textprops={'fontsize': 10})\n",
    "plt.show()"
   ]
  },
  {
   "cell_type": "code",
   "execution_count": 75,
   "id": "5ee08402",
   "metadata": {},
   "outputs": [],
   "source": [
    "#Analyse par mois\n",
    "\n",
    "df_nature = pd.DataFrame(columns = ['mois', 'simple information', 'question','alerte de risque'])\n",
    "\n",
    "rec_df_groups = rec_df.groupby([rec_df['Date Sent'].dt.month.rename('month')])"
   ]
  },
  {
   "cell_type": "code",
   "execution_count": 76,
   "id": "c02c4ce3",
   "metadata": {
    "scrolled": true
   },
   "outputs": [
    {
     "name": "stdout",
     "output_type": "stream",
     "text": [
      "[6, 227, 40, 3]\n",
      "[7, 137, 29, 2]\n",
      "[8, 80, 11, 1]\n"
     ]
    }
   ],
   "source": [
    "\n",
    "i = 6 \n",
    "for group_key, group_value in rec_df_groups:\n",
    "    group = rec_df_groups.get_group(group_key)\n",
    "    \n",
    "    nature = []\n",
    "      \n",
    "    for idx, row in group.iterrows():\n",
    "    #question\n",
    "        if len(set(['re','re:','réponse'])&set(str(row['Subject']).lower().split())) == 0:\n",
    "            if  len(set(['?','demande','svp','pouvez-vous'])&(set(str(row['Body']).lower().split())|set(str(row['Subject']).lower().split()))) != 0:\n",
    "                nature.append(\"question\")\n",
    "            elif len(set(vocab_risque)&(set(str(row['Body']).lower().split())|set(str(row['Subject']).lower().split()))) != 0:\n",
    "                nature.append(\"alerte de risque\")\n",
    "            else :\n",
    "                nature.append(\"simple information\")\n",
    "\n",
    "        else :\n",
    "            nature.append(\"simple information\")\n",
    "    print([*[i],*[nature.count('simple information'),nature.count('question'),nature.count('alerte de risque')]])\n",
    "    \n",
    "    df_nature.loc[len(df_nature)] = [*[i],*[nature.count('simple information'),nature.count('question'),nature.count('alerte de risque')]]\n",
    "    i = i + 1\n",
    "        \n",
    "\n"
   ]
  },
  {
   "cell_type": "code",
   "execution_count": 77,
   "id": "277988a9",
   "metadata": {},
   "outputs": [
    {
     "data": {
      "text/html": [
       "<div>\n",
       "<style scoped>\n",
       "    .dataframe tbody tr th:only-of-type {\n",
       "        vertical-align: middle;\n",
       "    }\n",
       "\n",
       "    .dataframe tbody tr th {\n",
       "        vertical-align: top;\n",
       "    }\n",
       "\n",
       "    .dataframe thead th {\n",
       "        text-align: right;\n",
       "    }\n",
       "</style>\n",
       "<table border=\"1\" class=\"dataframe\">\n",
       "  <thead>\n",
       "    <tr style=\"text-align: right;\">\n",
       "      <th></th>\n",
       "      <th>mois</th>\n",
       "      <th>simple information</th>\n",
       "      <th>question</th>\n",
       "      <th>alerte de risque</th>\n",
       "    </tr>\n",
       "  </thead>\n",
       "  <tbody>\n",
       "    <tr>\n",
       "      <th>0</th>\n",
       "      <td>6</td>\n",
       "      <td>227</td>\n",
       "      <td>40</td>\n",
       "      <td>3</td>\n",
       "    </tr>\n",
       "    <tr>\n",
       "      <th>1</th>\n",
       "      <td>7</td>\n",
       "      <td>137</td>\n",
       "      <td>29</td>\n",
       "      <td>2</td>\n",
       "    </tr>\n",
       "    <tr>\n",
       "      <th>2</th>\n",
       "      <td>8</td>\n",
       "      <td>80</td>\n",
       "      <td>11</td>\n",
       "      <td>1</td>\n",
       "    </tr>\n",
       "  </tbody>\n",
       "</table>\n",
       "</div>"
      ],
      "text/plain": [
       "   mois  simple information  question  alerte de risque\n",
       "0     6                 227        40                 3\n",
       "1     7                 137        29                 2\n",
       "2     8                  80        11                 1"
      ]
     },
     "execution_count": 77,
     "metadata": {},
     "output_type": "execute_result"
    }
   ],
   "source": [
    "df_nature"
   ]
  },
  {
   "cell_type": "markdown",
   "id": "5c60ce66",
   "metadata": {},
   "source": [
    "## Répartition des mails par nombre d'échanges :"
   ]
  },
  {
   "cell_type": "code",
   "execution_count": 78,
   "id": "41774ddc",
   "metadata": {},
   "outputs": [
    {
     "data": {
      "text/plain": [
       "456"
      ]
     },
     "execution_count": 78,
     "metadata": {},
     "output_type": "execute_result"
    }
   ],
   "source": [
    "df_direct = df[df['type'].isin(['direct','fwd']) ]\n",
    "df_rep = df[df['type']=='re']\n",
    "len(df_direct)"
   ]
  },
  {
   "cell_type": "code",
   "execution_count": 291,
   "id": "9c3ff78d",
   "metadata": {},
   "outputs": [],
   "source": [
    "# len(df_rep)"
   ]
  },
  {
   "cell_type": "code",
   "execution_count": 79,
   "id": "375934ef",
   "metadata": {},
   "outputs": [],
   "source": [
    "import datetime\n",
    "ech = []\n",
    "temps= []\n",
    "for idx, row in df_direct.iterrows():\n",
    "    sujet = str(row['Subject'])\n",
    "    start = datetime.datetime.strptime(str(row['Date Sent']),\"%Y-%m-%d %H:%M:%S\")\n",
    "    c = 0\n",
    "    ech_times = []\n",
    "    for i, r in df_rep.iterrows():\n",
    "        if sujet in str(r[\"Subject\"]) :\n",
    "            ech_times.append(datetime.datetime.strptime(str(r['Date Sent']),\"%Y-%m-%d %H:%M:%S\"))            \n",
    "            c = c+1\n",
    "    if len(ech_times)>0 :\n",
    "        if max(ech_times)>start :\n",
    "            x = (max(ech_times) - start)\n",
    "            x = (x.days)*24 + (x.seconds)/3600\n",
    "            temps.append(x)\n",
    "    \n",
    "    \n",
    "    ech.append(c)"
   ]
  },
  {
   "cell_type": "code",
   "execution_count": 80,
   "id": "0ba2ae97",
   "metadata": {},
   "outputs": [],
   "source": [
    "def addlabels(x,y):\n",
    "    for i in range(len(x)):\n",
    "        plt.text(i, y[i], y[i], ha = 'center')"
   ]
  },
  {
   "cell_type": "code",
   "execution_count": 83,
   "id": "09b11058",
   "metadata": {
    "scrolled": true
   },
   "outputs": [
    {
     "name": "stdout",
     "output_type": "stream",
     "text": [
      "['0.4329268292682927%', '0.27439024390243905%', '0.10975609756097561%', '0.18292682926829268%']\n"
     ]
    }
   ],
   "source": [
    "t4 = 0\n",
    "t24 = 0\n",
    "t72 = 0\n",
    "t_plus = 0\n",
    "\n",
    "for x in temps :\n",
    "    if x<4:\n",
    "        t4 = t4 + 1\n",
    "    elif x<24 :\n",
    "        t24 = t24 + 1\n",
    "    elif x<72 :\n",
    "        t72 = t72 + 1\n",
    "    else :\n",
    "        t_plus = t_plus + 1\n",
    "\n",
    "perc = [str(t4/sum(y))+'%',str(t24/sum(y))+'%',str(t72/sum(y))+'%',str(t_plus/sum(y))+'%']\n",
    "        \n",
    "print(perc)\n",
    "#print(sum([t4,t24,t72,t_plus]))"
   ]
  },
  {
   "cell_type": "code",
   "execution_count": 86,
   "id": "a45a9835",
   "metadata": {},
   "outputs": [
    {
     "data": {
      "text/plain": [
       "<Figure size 720x360 with 0 Axes>"
      ]
     },
     "metadata": {},
     "output_type": "display_data"
    },
    {
     "data": {
      "image/png": "[encoded data removed]",
      "text/plain": [
       "<Figure size 432x288 with 1 Axes>"
      ]
     },
     "metadata": {
      "needs_background": "light"
     },
     "output_type": "display_data"
    }
   ],
   "source": [
    "x = ['<4' , '<24', '<72', '>72']\n",
    "y = [t4,t24,t72,t_plus]\n",
    "\n",
    "plt.figure(1, figsize=(10,5))\n",
    "fig, ax = plt.subplots()\n",
    "\n",
    "# width = 0.35\n",
    "# pps = ax.bar(x, y, width, align='center')\n",
    "\n",
    "\n",
    "# for p in pps:\n",
    "#    height = p.get_height()\n",
    "#    ax.text(x=p.get_x() + p.get_width() / 2, y=height+.10,\n",
    "#       s=\"{}%\".format(height),\n",
    "#       ha='center')\n",
    "    \n",
    "ax.bar(x,y)\n",
    "\n",
    "for index,data in enumerate(y):\n",
    "    plt.text(x=index , y =data+1 , s=f\"{round((data/sum(y)*100))}\"+\"%\" , fontdict=dict(fontsize=10))\n",
    "\n",
    "plt.title(\"répartition des mails par temps de réponse\",fontsize =15 )\n",
    "ax.get_yaxis().set_major_formatter(\n",
    "matplotlib.ticker.FuncFormatter(lambda x, p: format(int(x), ',')))\n",
    "\n",
    "plt.tight_layout()\n",
    "plt.show()\n",
    "#addlabels(['<4' , '<24', '<72', '>72'], perc)\n",
    "\n",
    "#plt.show()"
   ]
  },
  {
   "cell_type": "code",
   "execution_count": 224,
   "id": "a2eb2242",
   "metadata": {},
   "outputs": [],
   "source": [
    "# plt.hist(temps, bins = 50)\n"
   ]
  },
  {
   "cell_type": "code",
   "execution_count": 87,
   "id": "dbf1ca4b",
   "metadata": {},
   "outputs": [],
   "source": [
    "counts_ech = []\n",
    "for element in list(set(ech)) : \n",
    "    #print('nombre de mail envoyé par ',element,' : ',personnes.count(element))\n",
    "    counts_ech.append(ech.count(element))"
   ]
  },
  {
   "cell_type": "code",
   "execution_count": 227,
   "id": "fbcf2bc7",
   "metadata": {},
   "outputs": [],
   "source": [
    "\n",
    "\n",
    "# fig, ax = plt.subplots()\n",
    "# plt.bar(list(set(ech)),counts_ech)\n",
    "# plt.title(\"Répartition des mails par nombre d'échanges\")\n",
    "# ax.get_yaxis().set_major_formatter(\n",
    "# matplotlib.ticker.FuncFormatter(lambda x, p: format(int(x), ',')))\n",
    "# plt.show()"
   ]
  },
  {
   "cell_type": "code",
   "execution_count": 159,
   "id": "0e5e9af4",
   "metadata": {},
   "outputs": [],
   "source": [
    "plt.rcParams.update(matplotlib.rcParamsDefault)"
   ]
  },
  {
   "cell_type": "code",
   "execution_count": 162,
   "id": "0bb030c4",
   "metadata": {
    "scrolled": false
   },
   "outputs": [
    {
     "data": {
      "text/plain": [
       "<Figure size 700x500 with 0 Axes>"
      ]
     },
     "metadata": {},
     "output_type": "display_data"
    },
    {
     "data": {
      "image/png": "[encoded data removed]",
      "text/plain": [
       "<Figure size 640x480 with 1 Axes>"
      ]
     },
     "metadata": {},
     "output_type": "display_data"
    }
   ],
   "source": [
    "plt.figure(1, figsize=(7,5))\n",
    "\n",
    "fig, ax = plt.subplots()\n",
    "plt.scatter(list(set(ech)),counts_ech,color='b')\n",
    "plt.xlabel(\"nombre d'échanges\")\n",
    "plt.ylabel('nombre de mails')\n",
    "plt.title(\"nombre de mails ayant x nombre d'échanges\",fontsize = 15)\n",
    "ax.get_yaxis().set_major_formatter(\n",
    "matplotlib.ticker.FuncFormatter(lambda x, p: format(int(x), ',')))\n",
    "plt.show()"
   ]
  },
  {
   "cell_type": "markdown",
   "id": "3840f8b4",
   "metadata": {},
   "source": [
    "## Analyse par jour"
   ]
  },
  {
   "cell_type": "code",
   "execution_count": 90,
   "id": "b2b5d7bd",
   "metadata": {},
   "outputs": [],
   "source": [
    "import datetime\n",
    "\n",
    "df['day_of_week'] = df['Date Sent'].dt.day_name()\n",
    "df['time'] = df['Date Sent'].dt.time\n",
    "\n",
    "# import locale\n",
    "\n",
    "# locale.setlocale(locale.LC_ALL,\"fr_FR\")\n",
    "# for i in df.index :\n",
    "#       df['day_of_week'][i] = datetime.datetime.strftime(df['day_of_week'][i],\"%a\")\n",
    "        \n",
    "        \n",
    "for idx, row in df.iterrows():\n",
    "    if row['time']<datetime.time(12,0,0) :\n",
    "        df.loc[idx,'time'] = 'am'\n",
    "    else:\n",
    "        df.loc[idx,'time'] = 'pm'\n"
   ]
  },
  {
   "cell_type": "code",
   "execution_count": 84,
   "id": "9c69033d",
   "metadata": {},
   "outputs": [],
   "source": [
    "# df"
   ]
  },
  {
   "cell_type": "code",
   "execution_count": 91,
   "id": "83ced75c",
   "metadata": {},
   "outputs": [],
   "source": [
    "groups = df.groupby(['day_of_week', 'time'])"
   ]
  },
  {
   "cell_type": "code",
   "execution_count": 92,
   "id": "0a565f33",
   "metadata": {},
   "outputs": [
    {
     "data": {
      "text/plain": [
       "[('Friday', 'am'),\n",
       " ('Friday', 'pm'),\n",
       " ('Monday', 'am'),\n",
       " ('Monday', 'pm'),\n",
       " ('Thursday', 'am'),\n",
       " ('Thursday', 'pm'),\n",
       " ('Tuesday', 'am'),\n",
       " ('Tuesday', 'pm'),\n",
       " ('Wednesday', 'am'),\n",
       " ('Wednesday', 'pm')]"
      ]
     },
     "execution_count": 92,
     "metadata": {},
     "output_type": "execute_result"
    }
   ],
   "source": [
    "liste = []\n",
    "for group_key, group_value in groups:\n",
    "    liste.append(group_key)\n",
    "    #print(group_value)\n",
    "liste"
   ]
  },
  {
   "cell_type": "code",
   "execution_count": 93,
   "id": "1f409d1d",
   "metadata": {},
   "outputs": [],
   "source": [
    "analyse_par_jour = pd.DataFrame(liste, columns =['day', 'hour'])"
   ]
  },
  {
   "cell_type": "code",
   "execution_count": 94,
   "id": "3ef88b30",
   "metadata": {},
   "outputs": [],
   "source": [
    "avgs = []\n",
    "b = 0\n",
    "for group_key, group_value in groups:\n",
    "    group = groups.get_group(group_key)\n",
    "    dates = []\n",
    "    for idx, row in group.iterrows():\n",
    "        dates.append(row['Date Sent'].date())\n",
    "    dates = list(set(dates))\n",
    "    if b<len(dates):\n",
    "        b = len(dates)\n",
    "    #print(group)\n",
    "    avgs.append(len(group))\n",
    "avgs = np.divide(avgs,b)"
   ]
  },
  {
   "cell_type": "code",
   "execution_count": 95,
   "id": "24b60c60",
   "metadata": {},
   "outputs": [],
   "source": [
    "analyse_par_jour = analyse_par_jour.assign(moyenne_mesuelle_mails=avgs)"
   ]
  },
  {
   "cell_type": "code",
   "execution_count": 96,
   "id": "84307844",
   "metadata": {},
   "outputs": [
    {
     "data": {
      "text/html": [
       "<div>\n",
       "<style scoped>\n",
       "    .dataframe tbody tr th:only-of-type {\n",
       "        vertical-align: middle;\n",
       "    }\n",
       "\n",
       "    .dataframe tbody tr th {\n",
       "        vertical-align: top;\n",
       "    }\n",
       "\n",
       "    .dataframe thead th {\n",
       "        text-align: right;\n",
       "    }\n",
       "</style>\n",
       "<table border=\"1\" class=\"dataframe\">\n",
       "  <thead>\n",
       "    <tr style=\"text-align: right;\">\n",
       "      <th></th>\n",
       "      <th>day</th>\n",
       "      <th>hour</th>\n",
       "      <th>moyenne_mesuelle_mails</th>\n",
       "    </tr>\n",
       "  </thead>\n",
       "  <tbody>\n",
       "    <tr>\n",
       "      <th>2</th>\n",
       "      <td>Monday</td>\n",
       "      <td>am</td>\n",
       "      <td>7.769231</td>\n",
       "    </tr>\n",
       "    <tr>\n",
       "      <th>3</th>\n",
       "      <td>Monday</td>\n",
       "      <td>pm</td>\n",
       "      <td>9.076923</td>\n",
       "    </tr>\n",
       "    <tr>\n",
       "      <th>6</th>\n",
       "      <td>Tuesday</td>\n",
       "      <td>am</td>\n",
       "      <td>8.769231</td>\n",
       "    </tr>\n",
       "    <tr>\n",
       "      <th>7</th>\n",
       "      <td>Tuesday</td>\n",
       "      <td>pm</td>\n",
       "      <td>11.461538</td>\n",
       "    </tr>\n",
       "    <tr>\n",
       "      <th>8</th>\n",
       "      <td>Wednesday</td>\n",
       "      <td>am</td>\n",
       "      <td>8.307692</td>\n",
       "    </tr>\n",
       "    <tr>\n",
       "      <th>9</th>\n",
       "      <td>Wednesday</td>\n",
       "      <td>pm</td>\n",
       "      <td>6.384615</td>\n",
       "    </tr>\n",
       "    <tr>\n",
       "      <th>4</th>\n",
       "      <td>Thursday</td>\n",
       "      <td>am</td>\n",
       "      <td>9.769231</td>\n",
       "    </tr>\n",
       "    <tr>\n",
       "      <th>5</th>\n",
       "      <td>Thursday</td>\n",
       "      <td>pm</td>\n",
       "      <td>4.538462</td>\n",
       "    </tr>\n",
       "    <tr>\n",
       "      <th>0</th>\n",
       "      <td>Friday</td>\n",
       "      <td>am</td>\n",
       "      <td>8.153846</td>\n",
       "    </tr>\n",
       "    <tr>\n",
       "      <th>1</th>\n",
       "      <td>Friday</td>\n",
       "      <td>pm</td>\n",
       "      <td>4.923077</td>\n",
       "    </tr>\n",
       "  </tbody>\n",
       "</table>\n",
       "</div>"
      ],
      "text/plain": [
       "         day hour  moyenne_mesuelle_mails\n",
       "2     Monday   am                7.769231\n",
       "3     Monday   pm                9.076923\n",
       "6    Tuesday   am                8.769231\n",
       "7    Tuesday   pm               11.461538\n",
       "8  Wednesday   am                8.307692\n",
       "9  Wednesday   pm                6.384615\n",
       "4   Thursday   am                9.769231\n",
       "5   Thursday   pm                4.538462\n",
       "0     Friday   am                8.153846\n",
       "1     Friday   pm                4.923077"
      ]
     },
     "execution_count": 96,
     "metadata": {},
     "output_type": "execute_result"
    }
   ],
   "source": [
    "cats = ['Monday', 'Tuesday', 'Wednesday', 'Thursday', 'Friday']\n",
    "analyse_par_jour['day'] = pd.Categorical(analyse_par_jour['day'], categories=cats, ordered=True)\n",
    "analyse_par_jour = analyse_par_jour.sort_values('day')\n",
    "analyse_par_jour"
   ]
  },
  {
   "cell_type": "code",
   "execution_count": 97,
   "id": "acfa3839",
   "metadata": {},
   "outputs": [],
   "source": [
    "groups = analyse_par_jour.groupby(['hour'])"
   ]
  },
  {
   "cell_type": "code",
   "execution_count": 240,
   "id": "fe8cf5eb",
   "metadata": {},
   "outputs": [],
   "source": [
    "# group = groups.get_group('am')#['moyenne_mensuelle_mails']\n",
    "# group['moyenne_mesuelle_mails'].to_list()"
   ]
  },
  {
   "cell_type": "code",
   "execution_count": 100,
   "id": "f0d419b8",
   "metadata": {},
   "outputs": [
    {
     "data": {
      "image/png": "[encoded data removed]",
      "text/plain": [
       "<Figure size 504x360 with 1 Axes>"
      ]
     },
     "metadata": {
      "needs_background": "light"
     },
     "output_type": "display_data"
    }
   ],
   "source": [
    "plt.figure(1, figsize=(7,5))\n",
    "\n",
    "Days = ['Lundi','Mardi','Mercredi','Jeudi','Vendredi']\n",
    "X_axis = np.arange(len(Days))\n",
    "  \n",
    "plt.bar(X_axis - 0.2, groups.get_group('am')['moyenne_mesuelle_mails'].to_list(), 0.4, label = 'am')\n",
    "plt.bar(X_axis + 0.2, groups.get_group('pm')['moyenne_mesuelle_mails'], 0.4, label = 'pm')\n",
    "  \n",
    "plt.xticks(X_axis, Days)\n",
    "plt.xlabel(\"Jours\")\n",
    "plt.ylabel(\"nombre de mails\")\n",
    "plt.title(\"nombre moyen de mails échangés par jour\",fontsize = 15)\n",
    "plt.legend()\n",
    "plt.show()"
   ]
  },
  {
   "cell_type": "code",
   "execution_count": null,
   "id": "a37087d9",
   "metadata": {},
   "outputs": [],
   "source": []
  }
 ],
 "metadata": {
  "kernelspec": {
   "display_name": "Python 3 (ipykernel)",
   "language": "python",
   "name": "python3"
  },
  "language_info": {
   "codemirror_mode": {
    "name": "ipython",
    "version": 3
   },
   "file_extension": ".py",
   "mimetype": "text/x-python",
   "name": "python",
   "nbconvert_exporter": "python",
   "pygments_lexer": "ipython3",
   "version": "3.10.4"
  }
 },
 "nbformat": 4,
 "nbformat_minor": 5
}
