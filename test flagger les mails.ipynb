{
 "cells": [
  {
   "cell_type": "code",
   "execution_count": 1,
   "id": "ae2be693",
   "metadata": {},
   "outputs": [],
   "source": [
    "import warnings\n",
    "warnings.filterwarnings(\"ignore\")\n",
    "\n",
    "# from urllib.request import urlopen\n",
    "from bs4 import BeautifulSoup\n",
    "import pandas as pd\n",
    "import exchangelib\n",
    "from exchangelib import DELEGATE, Account, Credentials, Configuration\n",
    "\n",
    "import datetime\n",
    "from datetime import datetime\n",
    "from datetime import date"
   ]
  },
  {
   "cell_type": "code",
   "execution_count": 2,
   "id": "62e7f364",
   "metadata": {},
   "outputs": [],
   "source": [
    "## Les cordonnées de la boite mails\n",
    "\n",
    "creds = Credentials(\n",
    "    username=\"ia_mail@groupe-idea.com\", \n",
    "    password=\"19+kT+e7!p6\"\n",
    ")\n",
    "\n",
    "config = Configuration(server='outlook.office.com', credentials=creds)\n",
    "\n",
    "account = Account(\n",
    "    primary_smtp_address=\"n16aeroparcbis@groupe-idea.com\",\n",
    "    autodiscover=False, \n",
    "    config=config,\n",
    "    access_type=DELEGATE\n",
    ")\n",
    "\n",
    "## Vous voulez extraire les mails reçus depuis quelle dates?\n",
    "\n",
    "date_début = date(2021, 8, 1)\n",
    "now = datetime.now().date()\n",
    "delta = now - date_début\n",
    "h = delta.days*24"
   ]
  },
  {
   "cell_type": "code",
   "execution_count": 10,
   "id": "634fb7fc",
   "metadata": {},
   "outputs": [
    {
     "name": "stdout",
     "output_type": "stream",
     "text": [
      "🚩🚩🚩 cornière rebutée\n",
      "High\n",
      "Normal\n"
     ]
    }
   ],
   "source": [
    "from datetime import timedelta\n",
    "from exchangelib import UTC_NOW\n",
    "from exchangelib import fields\n",
    "since = UTC_NOW() - timedelta(hours=h)\n",
    "for item in account.inbox.all()\\\n",
    "        .filter(datetime_received__gt=since)\\\n",
    "        .order_by('-datetime_received')[:1]:\n",
    "    print(item.subject)\n",
    "    print(item.importance)\n",
    "    item.importance = \"Normal\"\n",
    "    item.save()\n",
    "    item.refresh()\n",
    "    print(item.importance)\n",
    "#     item.subject = \"new\"\n",
    "#     print(item.FIELDS)\n"
   ]
  },
  {
   "cell_type": "code",
   "execution_count": null,
   "id": "4e1a4e04",
   "metadata": {},
   "outputs": [],
   "source": []
  }
 ],
 "metadata": {
  "kernelspec": {
   "display_name": "Python 3 (ipykernel)",
   "language": "python",
   "name": "python3"
  },
  "language_info": {
   "codemirror_mode": {
    "name": "ipython",
    "version": 3
   },
   "file_extension": ".py",
   "mimetype": "text/x-python",
   "name": "python",
   "nbconvert_exporter": "python",
   "pygments_lexer": "ipython3",
   "version": "3.10.4"
  }
 },
 "nbformat": 4,
 "nbformat_minor": 5
}
