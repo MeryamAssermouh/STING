{
 "cells": [
  {
   "cell_type": "code",
   "execution_count": 1,
   "id": "da2a14ee",
   "metadata": {},
   "outputs": [
    {
     "name": "stderr",
     "output_type": "stream",
     "text": [
      "C:\\Users\\massermouh\\AppData\\Local\\Programs\\Python\\Python310\\lib\\site-packages\\numpy\\_distributor_init.py:30: UserWarning: loaded more than 1 DLL from .libs:\n",
      "C:\\Users\\massermouh\\AppData\\Local\\Programs\\Python\\Python310\\lib\\site-packages\\numpy\\.libs\\libopenblas.el2c6ple4zyw3eceviv3oxxgrn2nrfm2.gfortran-win_amd64.dll\n",
      "C:\\Users\\massermouh\\AppData\\Local\\Programs\\Python\\Python310\\lib\\site-packages\\numpy\\.libs\\libopenblas.XWYDX2IKJW2NMTWSFYNGFUWKQU3LYTCZ.gfortran-win_amd64.dll\n",
      "  warnings.warn(\"loaded more than 1 DLL from .libs:\"\n"
     ]
    }
   ],
   "source": [
    "from urllib.request import urlopen\n",
    "from bs4 import BeautifulSoup\n",
    "import pandas as pd\n",
    "import warnings\n",
    "warnings.filterwarnings(\"ignore\")\n",
    "\n",
    "#Traitement de données texte\n",
    "import nltk\n",
    "from nltk.classify.scikitlearn import SklearnClassifier\n",
    "from nltk.corpus import stopwords\n",
    "from nltk.tokenize import word_tokenize\n",
    "from sklearn.feature_extraction.text import TfidfVectorizer"
   ]
  },
  {
   "cell_type": "code",
   "execution_count": 2,
   "id": "0b3e3404",
   "metadata": {},
   "outputs": [],
   "source": [
    "def html_to_text(html):\n",
    "    \n",
    "    soup = BeautifulSoup(html, features=\"html.parser\")\n",
    "\n",
    "    for script in soup([\"script\", \"style\"]):\n",
    "        script.extract()  \n",
    "    text = soup.get_text()\n",
    "\n",
    "    lines = (line.strip() for line in text.splitlines())\n",
    "    chunks = (phrase.strip() for line in lines for phrase in line.split(\"  \"))\n",
    "    text = '\\n'.join(chunk for chunk in chunks if chunk)\n",
    "    \n",
    "    return text"
   ]
  },
  {
   "cell_type": "code",
   "execution_count": 3,
   "id": "c37fc3b0",
   "metadata": {},
   "outputs": [],
   "source": [
    "import exchangelib"
   ]
  },
  {
   "cell_type": "code",
   "execution_count": 4,
   "id": "d1571f23",
   "metadata": {},
   "outputs": [],
   "source": [
    "from exchangelib import DELEGATE, Account, Credentials, Configuration"
   ]
  },
  {
   "cell_type": "code",
   "execution_count": 22,
   "id": "9e8d65cd",
   "metadata": {},
   "outputs": [],
   "source": [
    "creds = Credentials(\n",
    "    username=\"massermouh@groupe-idea.com\", \n",
    "    password=\"0idcili1A*\"\n",
    ")\n",
    "\n",
    "config = Configuration(server='outlook.office.com', credentials=creds)\n",
    "\n",
    "account = Account(\n",
    "    primary_smtp_address=\"massermouh@groupe-idea.com\",\n",
    "    autodiscover=False, \n",
    "    config=config,\n",
    "    access_type=DELEGATE\n",
    ")"
   ]
  },
  {
   "cell_type": "code",
   "execution_count": 23,
   "id": "cd30dd68",
   "metadata": {},
   "outputs": [
    {
     "data": {
      "text/plain": [
       "600"
      ]
     },
     "execution_count": 23,
     "metadata": {},
     "output_type": "execute_result"
    }
   ],
   "source": [
    "import datetime\n",
    "from datetime import datetime\n",
    "from datetime import date\n",
    "date_début = date(2022, 7, 2)\n",
    "now = datetime.now().date()\n",
    "delta = now - date_début\n",
    "delta.days*24"
   ]
  },
  {
   "cell_type": "code",
   "execution_count": 24,
   "id": "5fa1de80",
   "metadata": {},
   "outputs": [
    {
     "data": {
      "text/plain": [
       "datetime.date(2022, 7, 27)"
      ]
     },
     "execution_count": 24,
     "metadata": {},
     "output_type": "execute_result"
    }
   ],
   "source": [
    "now"
   ]
  },
  {
   "cell_type": "code",
   "execution_count": 25,
   "id": "2c73e00c",
   "metadata": {},
   "outputs": [
    {
     "name": "stdout",
     "output_type": "stream",
     "text": [
      "Rapport utilisateur : 1 graymail(s) et 0 indésirable(s)\n",
      "Rapport du stage                       \n",
      "L'hebdo myIDEA !\n",
      "Récapitulatif quotidien de vos tâches\n",
      "Re: Extraction de mails\n",
      "RE: Extraction de mails\n",
      "Compte rendu Weekly Tech Meeting IA\n",
      "Dhinesh a envoyé un message\n",
      "Travail n16.xlsx\n",
      "L'hebdo myIDEA !\n",
      "Votre e-mail de synthèse\n"
     ]
    }
   ],
   "source": [
    "from datetime import timedelta\n",
    "from exchangelib import UTC_NOW\n",
    "\n",
    "since = UTC_NOW() - timedelta(hours=24*10)\n",
    "for item in account.inbox.all()\\\n",
    "        .filter(datetime_received__gt=since)\\\n",
    "        .order_by('-datetime_received'):\n",
    "    print(item.subject)"
   ]
  },
  {
   "cell_type": "code",
   "execution_count": 29,
   "id": "ec9decd8",
   "metadata": {
    "scrolled": true
   },
   "outputs": [
    {
     "name": "stdout",
     "output_type": "stream",
     "text": [
      "Assermouh Meryam; Cardineau Samuel\n",
      "***\n",
      "Re: Extraction de mails\n",
      "***\n",
      "MBruggeman@groupe-idea.com\n",
      "****\n",
      "Assermouh Meryam; Cardineau Samuel\n",
      "*********\n",
      "2022-07-22 12:19:57+00:00\n",
      "****\n",
      "Bonjour Meryam, Merci pour ton mail. Pas sûre d'avoir parfaitement compris les tenants et aboutissants mais je te propose d'en discuter semaine prochaine. On peut se caler un créneau d'1/2h avce Samuel dédié à ce sujet ? Puis je te laisser prendre la main  sur l'invitation stp ? Merci et bonne fin de semaine. Mélanie Téléchargez Outlook pour Android\n"
     ]
    }
   ],
   "source": [
    "l = []\n",
    "for item in account.inbox.all().order_by('-datetime_received')[4:5]:\n",
    "    print(item.display_to)\n",
    "    print('***')\n",
    "    print(item.subject)\n",
    "    print('***')\n",
    "    print(item.sender.email_address)\n",
    "    print('****')\n",
    "    print(item.display_to)\n",
    "    print('*********')\n",
    "    print(item.datetime_received)\n",
    "    print('****')\n",
    "    b = html_to_text(item.unique_body)\n",
    "    b = b.replace('\\n',' ')\n",
    "    print(b)\n",
    "    \n",
    "    l.append((item.id,item.changekey))\n",
    "\n",
    "#print(l)"
   ]
  },
  {
   "cell_type": "code",
   "execution_count": 11,
   "id": "eff4257f",
   "metadata": {},
   "outputs": [
    {
     "data": {
      "text/plain": [
       "[('AAMkADc4ODRlZTUxLWNkOGUtNDI4ZC05NDVkLTFjNDM0M2EwY2I4YwBGAAAAAAC8pQwzX7znQav762WrbYGwBwBQBcoV6pfRTYxoxbOYpm2AAAAAAAEMAABQBcoV6pfRTYxoxbOYpm2AAABbfiAwAAA=',\n",
       "  'DAAAABYAAABQBcoV6pfRTYxoxbOYpm2AAABbUjnk')]"
      ]
     },
     "execution_count": 11,
     "metadata": {},
     "output_type": "execute_result"
    }
   ],
   "source": [
    "l"
   ]
  },
  {
   "cell_type": "code",
   "execution_count": 14,
   "id": "9d768252",
   "metadata": {},
   "outputs": [
    {
     "name": "stdout",
     "output_type": "stream",
     "text": [
      "Messages (myIDEA)\n",
      "Messages (TO DO)\n"
     ]
    }
   ],
   "source": [
    "l1 = []\n",
    "for f in account.inbox.walk():\n",
    "    print(f)\n",
    "    l1.append(f.id)"
   ]
  },
  {
   "cell_type": "code",
   "execution_count": 13,
   "id": "b07c8407",
   "metadata": {},
   "outputs": [
    {
     "data": {
      "text/plain": [
       "['AAMkADc4ODRlZTUxLWNkOGUtNDI4ZC05NDVkLTFjNDM0M2EwY2I4YwAuAAAAAAC8pQwzX7znQav762WrbYGwAQBQBcoV6pfRTYxoxbOYpm2AAAARPZEjAAA=',\n",
       " 'AAMkADc4ODRlZTUxLWNkOGUtNDI4ZC05NDVkLTFjNDM0M2EwY2I4YwAuAAAAAAC8pQwzX7znQav762WrbYGwAQBQBcoV6pfRTYxoxbOYpm2AAAARPZEiAAA=']"
      ]
     },
     "execution_count": 13,
     "metadata": {},
     "output_type": "execute_result"
    }
   ],
   "source": [
    "l1"
   ]
  },
  {
   "cell_type": "code",
   "execution_count": 9,
   "id": "f9d4e984",
   "metadata": {},
   "outputs": [
    {
     "data": {
      "text/plain": [
       "[('AAMkADc4ODRlZTUxLWNkOGUtNDI4ZC05NDVkLTFjNDM0M2EwY2I4YwBGAAAAAAC8pQwzX7znQav762WrbYGwBwBQBcoV6pfRTYxoxbOYpm2AAAARPZEiAABQBcoV6pfRTYxoxbOYpm2AAABbfp+dAAA=',\n",
       "  'DAAAABYAAABQBcoV6pfRTYxoxbOYpm2AAABbUjtj')]"
      ]
     },
     "execution_count": 9,
     "metadata": {},
     "output_type": "execute_result"
    }
   ],
   "source": [
    "from exchangelib.folders import FolderId\n",
    "\n",
    "\n",
    "folder = FolderId(id = l1[1])\n",
    "account.bulk_move(l,folder,chunk_size = None)"
   ]
  }
 ],
 "metadata": {
  "kernelspec": {
   "display_name": "Python 3 (ipykernel)",
   "language": "python",
   "name": "python3"
  },
  "language_info": {
   "codemirror_mode": {
    "name": "ipython",
    "version": 3
   },
   "file_extension": ".py",
   "mimetype": "text/x-python",
   "name": "python",
   "nbconvert_exporter": "python",
   "pygments_lexer": "ipython3",
   "version": "3.10.4"
  }
 },
 "nbformat": 4,
 "nbformat_minor": 5
}
